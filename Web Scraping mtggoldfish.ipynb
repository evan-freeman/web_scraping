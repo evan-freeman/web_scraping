{
 "cells": [
  {
   "cell_type": "markdown",
   "metadata": {},
   "source": [
    "# Web Scraping mtggoldfish.com"
   ]
  },
  {
   "cell_type": "markdown",
   "metadata": {},
   "source": [
    "So, yes, I'm a total nerd. I like Magic the Gathering. But at least I don't LARP!!!\n",
    "\n",
    "Let's try scraping mtggoldfish.com, which is an amazing site with all kinds of data and news on the game. But particularly, it has prices of cards, which we could (in theory) scrape, then use to build a ML model to predict card prices, AND THEN USE IT TO BECOME FABULOSULY WEALTHY AND TAKE OVER THE WORLD.\n",
    "\n",
    "Or maybe just get some Commander singles at a decent price. WIZARDS PLEASE JUST REPRINT SOME DECENT LANDS SO I DON'T HAVE TO RUN ALL TAPLANDS FOR MY 5 COLOR JANK!!!"
   ]
  },
  {
   "cell_type": "markdown",
   "metadata": {},
   "source": [
    "# Setup"
   ]
  },
  {
   "cell_type": "code",
   "execution_count": 1,
   "metadata": {},
   "outputs": [],
   "source": [
    "import re\n",
    "import requests\n",
    "from bs4 import BeautifulSoup"
   ]
  },
  {
   "cell_type": "code",
   "execution_count": 2,
   "metadata": {},
   "outputs": [],
   "source": [
    "url = r'https://www.mtggoldfish.com/'\n",
    "\n",
    "r = requests.get(url)\n",
    "\n",
    "data = r.text"
   ]
  },
  {
   "cell_type": "markdown",
   "metadata": {},
   "source": [
    "So here's what the raw html looks like as a text file. Pretty much unintelligable."
   ]
  },
  {
   "cell_type": "code",
   "execution_count": 4,
   "metadata": {
    "scrolled": true
   },
   "outputs": [
    {
     "data": {
      "text/plain": [
       "'<!DOCTYPE html>\\n<html lang=\\'en\\' xmlns=\\'http://www.w3.org/1999/xhtml\\'>\\n<head>\\n<title>MTGGoldfish - Magic the Gathering Prices, Decks and Strategy</title>\\n<meta name=\"description\" content=\"Magic the Gathering and Magic Online prices, decks and strategy.\">\\n<meta name=\"keywords\" content=\"magic: the gathering price list, mtg price list, mtgo price list, decks, metagame, archetype, standard, modern, legacy, graphs, charts, mtgo prices, prices, speculation, speculators, trends, stocks\">\\n<meta property=\"og:title\" content=\"MTGGoldfish - Magic the Gathering Prices, Decks and Strategy\">\\n<meta property=\"og:type\" content=\"website\">\\n<meta property=\"og:url\" content=\"https://www.mtggoldfish.com/\">\\n<meta property=\"og:description\" content=\"Magic the Gathering and Magic Online prices, decks and strategy.\">\\n<meta name=\"twitter:card\" content=\"summary\">\\n<meta name=\"twitter:site\" content=\"@mtggoldfish\">\\n<link rel=\"alternate\" type=\"application/atom+xml\" title=\"ATOM\" href=\"https://www.mtggoldfish.com/feed\" />\\n<link rel=\"alternate\" type=\"application/rss+xml\" title=\"RSS\" href=\"https://www.mtggoldfish.com/feed.rss\" />\\n<link href=\\'https://assets1.mtggoldfish.com/assets/goldfish-32-22599602a047942143b34b034de85b0968d377caf56ff4a12c06146a4c13b989.png\\' rel=\\'apple-touch-icon\\'>\\n<link href=\\'https://assets1.mtggoldfish.com/assets/goldfish-72-f4155e01f71cfcaaa34af38dea8296e912c56eb5474a0ecc60064b4601ffebd6.png\\' rel=\\'apple-touch-icon\\' sizes=\\'72x72\\'>\\n<link href=\\'https://assets1.mtggoldfish.com/assets/goldfish-114-1d9d14e0a25de8fa2df41aed9ef917d10c27f55d07a2ca60c34331c56c6b8030.png\\' rel=\\'apple-touch-icon\\' sizes=\\'114x114\\'>\\n<link href=\\'https://assets1.mtggoldfish.com/assets/goldfish-144-fbf44d4bca87904f865574e1cc5ae42ac3789e284b765bc16eb920373b14b906.png\\' rel=\\'apple-touch-icon\\' sizes=\\'144x144\\'>\\n<link href=\\'https://assets1.mtggoldfish.com/assets/goldfish-64-f5b29fefb4ab86245883253afa5faffc2ffae42f26cd0291e620c074f354b3a6.png\\' rel=\\'apple-touch-icon-precomposed\\'>\\n<link href=\\'https://assets1.mtggoldfish.com/assets/goldfish-32-22599602a047942143b34b034de85b0968d377caf56ff4a12c06146a4c13b989.png\\' rel=\\'shortcut icon\\' type=\\'image/png\\'>\\n<link href=\\'https://fonts.googleapis.com/css?family=Montserrat:400,700,900|Open+Sans\\' rel=\\'stylesheet\\'>\\n<meta content=\\'text/html; charset=utf-8\\' http-equiv=\\'Content-Type\\'>\\n<meta content=\\'width=device-width, initial-scale=1\\' name=\\'viewport\\'>\\n<meta name=\"csrf-param\" content=\"authenticity_token\" />\\n<meta name=\"csrf-token\" content=\"+vdXn1IcZ7t0kmPFfBqsreRiDSc0pxfzElKfJ8Th8WPo+j4g+IIjeH9zIDt6q3ezn3rLU61J3L3uRHdkRUdTxw==\" />\\n<link rel=\"stylesheet\" media=\"all\" href=\"https://assets1.mtggoldfish.com/assets/application-aec91ffccf4879925a48836ef433a737da5829fab7d196e505bce2b0155fef0b.css\" />\\n<link rel=\"stylesheet\" media=\"print\" href=\"https://assets1.mtggoldfish.com/assets/print-6ea5076dba0b9bf0a07bd1b6ba2c5f860ceb3acc4e7adac560bbaf6f8f89b26a.css\" />\\n<script>(function() {\\nvar _fbq = window._fbq || (window._fbq = []);\\nif (!_fbq.loaded) {\\nvar fbds = document.createElement(\\'script\\');\\nfbds.async = true;\\nfbds.src = \\'//connect.facebook.net/en_US/fbds.js\\';\\nvar s = document.getElementsByTagName(\\'script\\')[0];\\ns.parentNode.insertBefore(fbds, s);\\n_fbq.loaded = true;\\n}\\n_fbq.push([\\'addPixelId\\', \\'928681210525176\\']);\\n})();\\nwindow._fbq = window._fbq || [];\\nwindow._fbq.push([\\'track\\', \\'PixelInitialized\\', {}]);\\n</script>\\n<noscript><img height=\"1\" width=\"1\" alt=\"\" style=\"display:none\" src=\"https://www.facebook.com/tr?id=928681210525176&amp;ev=PixelInitialized\" /></noscript>\\n\\n<script type=\"text/javascript\">\\n  window[\"nitroAds\"] = window[\"nitroAds\"] || {\\n    createAd: function() {\\n      window.nitroAds.queue.push([\"createAd\", arguments]);\\n    },\\n    queue: []\\n  };\\n</script>\\n<script async src=\"https://s.nitropay.com/ads-243.js\"></script>\\n\\n</head>\\n<body>\\n<img alt=\"MTGGoldfish Black and White Logo\" class=\"layout-print-logo\" src=\"https://assets1.mtggoldfish.com/assets/print-logo-b4db554933e3d44ebd0e4d026098dbab515105e53876a7c8f027e2dc6fbac816.png\" />\\n<div class=\\'layout-navbar-wrapper\\'>\\n<nav class=\\'navbar navbar-default layout-navbar-top\\' role=\\'navigation\\'>\\n<div class=\\'layout-header-banner clearfix\\'>\\n<div class=\\'layout-header-banner-logo\\'>\\n<a href=\"/\"><img class=\"layout-header-banner-logo-img sprite-logo-with-type-large\" alt=\"MTGGoldfish Logo\" src=\"https://assets1.mtggoldfish.com/assets/s-d69cbc552cfe8de4931deb191dd349a881ff4448ed3251571e0bacd0257519b1.gif\" />\\n</a></div>\\n<div class=\\'navbar-ad-container\\'>\\n<div class=\\'layout-top-ad-container layout-top-adsize-responsive\\'>\\n<div id=\\'ad-layout-header\\'></div>\\n</div>\\n</div>\\n</div>\\n<div class=\\'layout-header-nav\\'>\\n<div class=\\'layout-header-nav-inner\\'>\\n<div class=\\'layout-header-header-brand\\'>\\n<div class=\\'navbar-header\\'>\\n<button aria-controls=\\'navbar\\' aria-expanded=\\'false\\' class=\\'layout-navbar-toggle navbar-toggle collapsed\\' data-target=\\'#navbar\\' data-toggle=\\'collapse\\' type=\\'button\\'>\\n<span class=\\'sr-only\\'>Toggle navigation</span>\\n<span class=\\'icon-bar\\'></span>\\n<span class=\\'icon-bar\\'></span>\\n<span class=\\'icon-bar\\'></span>\\n</button>\\n<a class=\\'navbar-brand layout-navbar-brand\\' href=\\'/\\'>\\n<img class=\"layout-brand-image img-circle sprite-goldfish-navbar-logo\" alt=\"MTGGoldfish Icon\" src=\"https://assets1.mtggoldfish.com/assets/s-d69cbc552cfe8de4931deb191dd349a881ff4448ed3251571e0bacd0257519b1.gif\" />\\n<!-- = image_tag(\"logo-with-type-large.png\") -->\\n<!-- = image_tag(\"logo-with-type.png\") -->\\n</a>\\n</div>\\n<div class=\\'navbar-collapse collapse layout-navbar-collapse\\' id=\\'navbar\\'>\\n<ul class=\\'nav navbar-nav\\'>\\n<li class=\\'dropdown\\'>\\n<a class=\\'dropdown-toggle\\' data-toggle=\\'dropdown\\' href=\\'#\\'>\\nPrices\\n<span class=\\'caret\\'></span>\\n</a>\\n<ul class=\\'dropdown-menu\\' role=\\'menu\\'>\\n<li><a href=\"/prices/standard\">Price Lists</a></li>\\n<li><a href=\"/movers/standard\">Movers and Shakers</a></li>\\n</ul>\\n</li>\\n<li class=\\'dropdown\\'>\\n<a class=\\'dropdown-toggle\\' data-toggle=\\'dropdown\\' href=\\'#\\'>\\nDecks\\n<span class=\\'caret\\'></span>\\n</a>\\n<ul class=\\'dropdown-menu\\' role=\\'menu\\'>\\n<li><a href=\"/metagame/standard\">Metagame</a></li>\\n<li><a href=\"/format-staples/standard\">Format Staples</a></li>\\n<li><a href=\"/superbrew\">SuperBrew</a></li>\\n<li class=\\'divider\\' role=\\'presentation\\'>User Submitted Decks</li>\\n<li><a href=\"/deck/custom/standard\">User Submitted Decks</a></li>\\n<li><a href=\"/decks/new\">Submit a Deck</a></li>\\n</ul>\\n</li>\\n<li class=\\'dropdown\\'><a href=\"/articles\">Articles</a></li>\\n<li class=\\'dropdown\\'>\\n<a class=\\'dropdown-toggle\\' data-toggle=\\'dropdown\\' href=\\'#\\'>\\nTools\\n<span class=\\'caret\\'></span>\\n</a>\\n<ul class=\\'dropdown-menu\\' role=\\'menu\\'>\\n<li><a href=\"/portfolio\">My Collection</a></li>\\n<li><a href=\"/decks\">My Decks</a></li>\\n<li><a href=\"/price_alerts\">My Price Alerts</a></li>\\n<li><a href=\"/premium\">Premium Membership</a></li>\\n<li class=\\'divider\\' role=\\'presentation\\'></li>\\n<li><a href=\"/tools/deck_pricer\">Deck Pricer</a></li>\\n<li><a target=\"_blank\" href=\"https://chrome.google.com/webstore/detail/mtg-prices-by-mtggoldfish/bneckalmjgjiocbgannjaffookadphna\">Chrome Browser Extension</a></li>\\n</ul>\\n</li>\\n<li class=\\'dropdown\\'>\\n<a class=\\'dropdown-toggle\\' data-toggle=\\'dropdown\\' href=\\'#\\'>\\nShop\\n<span class=\\'caret\\'></span>\\n</a>\\n<ul class=\\'dropdown-menu dropdown-menu-sets\\' role=\\'menu\\'>\\n<li class=\\'dropdown-header\\' role=\\'presentation\\'>Upcoming Releases</li>\\n<li class=\\'dropdown-menu-sets-prerelease\\'>\\n<a href=\"/spoilers/Theros+Beyond+Death\">Theros: Beyond Death\\n<span class=\\'text-muted small menu-date-subtext\\'>Jan 24</span>\\n</a></li>\\n<li class=\\'divider\\' role=\\'presentation\\'></li>\\n<li class=\\'dropdown-header\\' role=\\'presentation\\'>Recent Releases</li>\\n<li class=\\'dropdown-menu-sets-prerelease\\'>\\n<a href=\"/spoilers/Secret+Lair\">Secret Lair\\n<span class=\\'text-muted small menu-date-subtext\\'>Dec 2</span>\\n</a></li>\\n<li class=\\'dropdown-menu-sets-prerelease\\'>\\n<a href=\"/spoilers/Throne+of+Eldraine\">Throne of Eldraine\\n<span class=\\'text-muted small menu-date-subtext\\'>Oct 4</span>\\n</a></li>\\n<li class=\\'dropdown-menu-sets-prerelease\\'>\\n<a href=\"/spoilers/Commander+2019\">Commander 2019\\n<span class=\\'text-muted small menu-date-subtext\\'>Aug 23</span>\\n</a></li>\\n<li class=\\'dropdown-menu-sets-prerelease\\'>\\n<a href=\"/spoilers/Core+Set+2020\">Core Set 2020\\n<span class=\\'text-muted small menu-date-subtext\\'>Jul 12</span>\\n</a></li>\\n<li class=\\'divider\\' role=\\'presentation\\'></li>\\n<li class=\\'dropdown-header\\' role=\\'presentation\\'>Merchandise</li>\\n<li><a href=\"https://www.mtggoldfishmerch.com\">MTGGoldfish</a></li>\\n<li class=\\'divider\\' role=\\'presentation\\'></li>\\n<li class=\\'dropdown-header\\' role=\\'presentation\\'>Reviews</li>\\n<li><a href=\"/reviews/deck-boxes\">Deck Boxes</a></li>\\n<li><a href=\"https://www.mtggoldfish.com/articles/magic-the-gathering-card-sleeves-review\">Sleeves</a></li>\\n<li><a href=\"https://www.mtggoldfish.com/articles/arena-of-the-planeswalkers-shadows-over-innistrad-review\">Arena of the Planeswalker</a></li>\\n</ul>\\n</li>\\n<li class=\\'dropdown\\'>\\n<a class=\\'dropdown-toggle\\' data-target=\\'#login-modal\\' data-toggle=\\'modal\\' href=\\'#\\'>\\nLogin\\n</a>\\n</li>\\n</ul>\\n\\n</div>\\n</div>\\n<form class=\"layout-searchbar-mobile\" role=\"search\" action=\"/q\" accept-charset=\"UTF-8\" method=\"get\"><input name=\"utf8\" type=\"hidden\" value=\"&#x2713;\" />\\n<div class=\\'layout-header-search-menu\\'>\\n<a aria-label=\"Home\" href=\"/\"><img class=\"layout-header-search-menu-logo sprite-logo-with-type\" alt=\"MTGGoldfish Home\" src=\"https://assets1.mtggoldfish.com/assets/s-d69cbc552cfe8de4931deb191dd349a881ff4448ed3251571e0bacd0257519b1.gif\" />\\n</a><div class=\\'input-group layout-navbar-input-group\\'>\\n<label class=\\'sr-only\\' for=\\'query_string\\'>Search Bar</label>\\n<input type=\"search\" name=\"query_string\" id=\"query_string\" class=\"form-control card-auto main-search layout-search-input\" autofocus=\"autofocus\" />\\n<div class=\\'input-group-btn\\'>\\n<button aria-label=\\'Search Submit\\' class=\\'glyphicon glyphicon-search btn btn-default layout-navbar-search-btn\\' type=\\'submit\\'></button>\\n</div>\\n</div>\\n</div>\\n</form>\\n\\n</div>\\n</div>\\n</nav>\\n</div>\\n</body>\\n<main class=\\'container-fluid layout-container-fluid\\' role=\\'main\\'>\\n<div id=\\'error\\'>\\n\\n</div>\\n<h1 class=\\'sr-only\\'>MTGGoldfish Homepage</h1>\\n<div id=\"fb-root\"></div>\\n'"
      ]
     },
     "execution_count": 4,
     "metadata": {},
     "output_type": "execute_result"
    }
   ],
   "source": [
    "data[:10000]"
   ]
  },
  {
   "cell_type": "markdown",
   "metadata": {},
   "source": [
    "But, we can use beautiful soup to get some nice data out of this doc."
   ]
  },
  {
   "cell_type": "code",
   "execution_count": 5,
   "metadata": {},
   "outputs": [],
   "source": [
    "soup = BeautifulSoup(data)"
   ]
  },
  {
   "cell_type": "markdown",
   "metadata": {},
   "source": [
    "So, step 1 is to just take a look at what we're dealing with. BS (beautiful soup) has a nice command so see all the html with proper indents, which makes it more readable."
   ]
  },
  {
   "cell_type": "code",
   "execution_count": 9,
   "metadata": {},
   "outputs": [
    {
     "name": "stdout",
     "output_type": "stream",
     "text": [
      "<!DOCTYPE html>\n",
      "<html lang=\"en\" xmlns=\"http://www.w3.org/1999/xhtml\">\n",
      " <head>\n",
      "  <title>\n",
      "   MTGGoldfish - Magic the Gathering Prices, Decks and Strategy\n",
      "  </title>\n",
      "  <meta content=\"Magic the Gathering and Magic Online prices, decks and strategy.\" name=\"description\"/>\n",
      "  <meta content=\"magic: the gathering price list, mtg price list, mtgo price list, decks, metagame, archetype, standard, modern, legacy, graphs, charts, mtgo prices, prices, speculation, speculators, trends, stocks\" name=\"keywords\"/>\n",
      "  <meta content=\"MTGGoldfish - Magic the Gathering Prices, Decks and Strategy\" property=\"og:title\"/>\n",
      "  <meta content=\"website\" property=\"og:type\"/>\n",
      "  <meta content=\"https://www.mtggoldfish.com/\" property=\"og:url\"/>\n",
      "  <meta content=\"Magic the Gathering and Magic Online prices, decks and strategy.\" property=\"og:description\"/>\n",
      "  <meta content=\"summary\" name=\"twitter:card\"/>\n",
      "  <meta content=\"@mtggoldfish\" name=\"twitter:site\"/>\n",
      "  <link href=\"https://www.mtggoldfish.com/feed\" rel=\"alternate\" title=\"A\n"
     ]
    }
   ],
   "source": [
    "print(soup.prettify()[:1000])"
   ]
  },
  {
   "cell_type": "markdown",
   "metadata": {},
   "source": [
    "But, this is still pretty hard to parse. Let's get rid of all the html tags and just look at the text."
   ]
  },
  {
   "cell_type": "code",
   "execution_count": 16,
   "metadata": {},
   "outputs": [
    {
     "data": {
      "text/plain": [
       "'MTGGoldfish - Magic the Gathering Prices, Decks and Strategy(function() {\\nvar _fbq = window._fbq || (window._fbq = []);\\nif (!_fbq.loaded) {\\nvar fbds = document.createElement(\\'script\\');\\nfbds.async = true;\\nfbds.src = \\'//connect.facebook.net/en_US/fbds.js\\';\\nvar s = document.getElementsByTagName(\\'script\\')[0];\\ns.parentNode.insertBefore(fbds, s);\\n_fbq.loaded = true;\\n}\\n_fbq.push([\\'addPixelId\\', \\'928681210525176\\']);\\n})();\\nwindow._fbq = window._fbq || [];\\nwindow._fbq.push([\\'track\\', \\'PixelInitialized\\', {}]);window[\"nitroAds\"] = window[\"nitroAds\"] || {\\n    createAd: function() {\\n      window.nitroAds.queue.push([\"createAd\", arguments]);\\n    },\\n    queue: []\\n  };Toggle navigationPricesPrice ListsMovers and ShakersDecksMetagameFormat StaplesSuperBrewUser Submitted DecksUser Submitted DecksSubmit a DeckArticlesToolsMy CollectionMy DecksMy Price AlertsPremium MembershipDeck PricerChrome Browser ExtensionShopUpcoming ReleasesTheros: Beyond DeathJan 24Recent ReleasesSecret LairDec 2Throne of EldraineOct 4Commander 2019Aug 23Core Set 2020Jul 12MerchandiseMTGGoldfishReviewsDeck BoxesSleevesArena of the PlaneswalkerLoginSearch BarMTGGoldfish Homepage(function(d, s, id) {\\n  var js, fjs = d.getElementsByTagName(s)[0];\\n  if (d.getElementById(id)) return;\\n  js = d.createElement(s); js.id = id;\\n  js.src = \"//connect.facebook.net/en_US/sdk.js#xfbml=1&appId=308173545971080&version=v2.0\";\\n  fjs.parentNode.insertBefore(js, fjs);\\n}(document, \\'script\\', \\'facebook-jssdk\\'));Budget Magic: Bant Rampage (Standard)Mar 03 // by SaffronOliveDo new enchantments and constellation cards from Theros: Beyond Death mean that Rampage of the Clans is finally ready to shine in Standard? Let\\'s find out!New ScoopsTokensandPlaymatsAvailable!Visit StoreArticlesInstant Deck Tech: Temur Adventures (Standard)instant deck techInstant Deck Tech: Temur Adventures (Standard)Mar 03 // bySaffronOliveTemur Adventures has taken over Standard in the past week. Let\\'s take a look at what the deck is all about.Podcast 266: Secret Lairs and Canceled MagicFestpodcastPodcast 266: Secret Lairs and Canceled MagicFestMar 02 // bymtggoldfishThe crew breaks down a week&#39;s worth of Magic news and answers #MTGFishmail.Theros: Beyond Death Previews! Releases Jan 24, 2020.Instant Deck Tech: Manaless Dredge (Modern)instant deck techInstant Deck Tech: Manaless Dredge (Modern)Mar 02 // bySaffronOliveNo lands? No problem!Are Secret Lairs Worth It?financeAre Secret Lairs Worth It?Mar 02 // bySaffronOliveSecret Lairs seem here to stay, which means it\\'s time to delve deep into their current and future value and see if they are worth picking up, from a player\\'s perspective.Much Abrew: Enchantress (Pioneer, Magic Online)much abrew about nothingMuch Abrew: Enchantress (Pioneer, Magic Online)Mar 02 // bySaffronOliveCan some new Theros: Beyond Death additions like Setessan Champion and Wolfwillow Haven make Enchantress a player in Pioneer? Let\\'s find out!Weekly Update (Mar 01): 30 Casual Modern decks for Under $20weekly updateWeekly Update (Mar 01): 30 Casual Modern decks for Under $20Mar 02 // bymtggoldfishThis week in MTG news: 30 Casual Modern decks for Under $20.Single Scoop: Hushbridge Troll (Standard, Magic Arena)standardSingle Scoop: Hushbridge Troll (Standard, Magic Arena)Mar 01 // byTheAsianAvengerLets give into our greed and try to see if we can abuse Hushbringer\\'s ability to negate enter the battlefield effects!The Fish Tank: Sweet Viewer-Submitted Decks (Feb. 23-29, 2020)fish tankThe Fish Tank: Sweet Viewer-Submitted Decks (Feb. 23-29, 2020)Mar 01 // bySaffronOliveWhat cool decks did viewers submit this week? Let\\'s find out!Commander Clash S7 E24: Battle of the Bands | Ghost vs. Muse vs. My Chemical Romance vs. Weencommander clashCommander Clash S7 E24: Battle of the Bands | Ghost vs. Muse vs. My Chemical Romance vs. WeenFeb 29 // byTomer AbramoviciThe crew build decks around a specific band, filling the deck with flavorful references!Pioneer Peak: Bant CoCo (Pioneer, Magic Online)pioneerPioneer Peak: Bant CoCo (Pioneer, Magic Online)Feb 28 // byTheAsianAvengerGo! Go Bant CoCo! Go! Go Go Go! Go Bant CoCo Go!Vintage 101: Back in a Flashvintage 101Vintage 101: Back in a FlashFeb 28 // byJoe DyerJoe Dyer jumps back in a flash with both schools of Flash Rector in Vintage!Instant Deck Tech: Pact of the Underworld (Modern)instant deck techInstant Deck Tech: Pact of the Underworld (Modern)Feb 27 // bySaffronOliveEveryone\\'s trying to figure out the most broken thing to do with Underworld Breach, but it can\\'t possibly involved Pact of the Titan, can it? At least on Fishbowl Thursday it can!more ▶Popular DecksstandardLight Up the StageMono-Red AggroMono-Red AggroLight Up the StageRunaway Steam-KinFervent ChampionDecksMeta %Price3721.64%66\\xa0tix$\\xa0155standardTeferi, Time RavelerAzorius ControlAzorius ControlTeferi, Time RavelerShatter the SkyOmen of the SeaDecksMeta %Price2112.28%272\\xa0tix$\\xa0252modernAzusa, Lost but SeekingAmulet TitanAmulet TitanAzusa, Lost but SeekingAmulet of VigorSummoner\\'s PactDecksMeta %Price826.57%280\\xa0tix$\\xa0805modernChalice of the VoidEldrazi TronEldrazi TronChalice of the VoidThought-Knot SeerKarn, the Great CreatorDecksMeta %Price695.53%337\\xa0tix$\\xa0649pauperPreordainSkred FaeriesSkred FaeriesPreordainSkredSpellstutter SpriteDecksMeta %Price3410.97%46\\xa0tix$\\xa082pauperExpedition MapTronTronExpedition MapMulldrifterProphetic PrismDecksMeta %Price278.71%36\\xa0tix$\\xa063commanderZur the EnchanterZur the EnchanterZur the EnchanterZur the EnchanterAzorius SignetSol RingDecksMeta %Price13660.81%30\\xa0tix$\\xa0170commanderOloro, Ageless AsceticOloro, Ageless AsceticOloro, Ageless AsceticOloro, Ageless AsceticSol RingSanguine BondDecksMeta %Price13030.77%35\\xa0tix$\\xa0239more ▶Theros: Beyond Death Previews! Releases Jan 24, 2020.Recent Major EventsFormatEventDatePioneerSCG Open IndianapolisFeb 23ModernSCG Modern Classic IndianapolisFeb 23PioneerSCG Pioneer Classic IndianapolisFeb 23Trending Winners+17.43Gideon of the Trials30.76+131.00%+8.25Kalitas, Traitor of Ghet40.40+26.00%+6.41Silence9.00+247.00%+6.33Breeding Pool39.49+19.00%+5.18Grinding Station17.75+41.00%more ▶Trending Losers-2.96Bloom Tender56.99-5.00%-1.80Idyllic Tutor17.49-9.00%-1.75Dark Confidant46.97-4.00%-1.61Stoneforge Mystic37.99-4.00%-1.39Wrenn and Six52.10-3.00%more ▶Weekly NewsletterNever miss an update! Get the latest Magic: the Gathering prices, decks and strategies directly in your Inbox.Email for Newsletter SubscriptionPopular SeriesAgainst the OddsBuilding janky brews based on your votes.Budget MagicBuilding FNM-worthy decks without breaking the bank.Playing PauperHighlighting the Pauper format where only Commons are allowed.Commander ClashFour-player Commander battles featuring a new theme every week.Budget CommanderBuild awesome Commander decks on a 20 tix budget.Vintage 101Learn about the most powerful format that spans Magic\\'s entire history.MTGGoldfish PodcastJoin Crim (TheAsianAvenger), Seth (SaffronOlive) and Richard (BlackTuna) as they discuss the weekly news and answer user submitted questions.Much Abrew About NothingShowcasing offbeat brews from around the internet.Rough DraftsWeekly drafts featuring a variety of formats new and old.var MTGGoldfish = MTGGoldfish || {};\\n  MTGGoldfish.onDocumentReadyArray = MTGGoldfish.onDocumentReadyArray || [];\\n  MTGGoldfish.onDocumentReadyArray.push(function() {\\n    if ($(\"#twitch-embed\").length > 0 && $(window).width() > 1150) {\\n      $(\"#twitch-embed\").empty();\\n      new Twitch.Embed(\"twitch-embed\", {\\n        width: 840,\\n        height: 500,\\n        channel: \"mtggoldfish\"\\n      });\\n    }\\n  });Close Promotional PopupNew ScoopsTokensandPlaymatsAvailable!Visit Store×Close Login PopupSign in Using an Existing AccountRemember Facebook LoginRemember meRemember Twitter LoginRemember meSign-in with Twitch.tvRemember Twitch.tv LoginRemember meSign in Using an MTGGoldfish Email AccountEmail AddressPasswordRemember Email LoginRemember meForgot your password?Reset it here.Don\\'t have an account?Sign Up for free!×Close Privacy PopupCalifornia Consumer Privacy Act (CCPA)Exercising Your RightsIf you are a resident of California, you have the right under the CCPA to opt out of the sale of personal information to third parties. Use the options below to exercise this right, and please review our privacy policy for complete information on how your data is used and stored.My personal information may be used for the purposes defined in the privacy policy.Do not sell my personal information.Important UpdatesAt MTGGoldfish, we value your privacy. As such, we\\'re letting you know that we\\'ve updated our Privacy Policy to reflect the new rule set forth by the European Union\\'s General Data Protection Regulation (GDPR).We\\'ve updated ourTerms of UseandPrivacy Policy. Please take a moment to review them and accept to continue.I Agree to the Terms of Use and Privacy Policy×CardPrice History×CloseWelcome to MTGGoldfish. We display prices for both ONLINE and PAPER magic. By default, what prices would you like to see?PaperMagic\\xa0OnlineMagic ArenaMTGGoldfish FooterResourcesFAQDiscussManage Ads ConsentCompanyPrivacy PolicyTerms of UseContactDo Not Sell My Personal InformationGoldfish NetworkPokeGoldfishMTGCoverageContributeSubmit Tournament ResultsKeep in TouchSign up to receive email updates from us!Email for Newsletter SubscriptionAll emails include anunsubscribelink. You may opt-out at any time. See ourprivacy policy.Follow UsAll original content on this page is © 2012-2020 MTGGoldfish, Inc. and may not be used or reproduced without consent.  Wizards of the Coast, Magic: The Gathering, and their logos are trademarks of Wizards of the Coast LLC. © 1995-2020 Wizards. All rights reserved. MTGGoldfish, Inc. is not affiliated with Wizards of the Coast LLC. Ads by Curse.'"
      ]
     },
     "execution_count": 16,
     "metadata": {},
     "output_type": "execute_result"
    }
   ],
   "source": [
    "text = soup.get_text(strip = True)\n",
    "text"
   ]
  },
  {
   "cell_type": "code",
   "execution_count": 14,
   "metadata": {},
   "outputs": [
    {
     "data": {
      "text/plain": [
       "'There are 162 links'"
      ]
     },
     "metadata": {},
     "output_type": "display_data"
    },
    {
     "name": "stdout",
     "output_type": "stream",
     "text": [
      "<a href=\"/\"><img alt=\"MTGGoldfish Logo\" class=\"layout-header-banner-logo-img sprite-logo-with-type-large\" src=\"https://assets1.mtggoldfish.com/assets/s-d69cbc552cfe8de4931deb191dd349a881ff4448ed3251571e0bacd0257519b1.gif\"/>\n",
      "</a>\n",
      "<a class=\"navbar-brand layout-navbar-brand\" href=\"/\">\n",
      "<img alt=\"MTGGoldfish Icon\" class=\"layout-brand-image img-circle sprite-goldfish-navbar-logo\" src=\"https://assets1.mtggoldfish.com/assets/s-d69cbc552cfe8de4931deb191dd349a881ff4448ed3251571e0bacd0257519b1.gif\"/>\n",
      "<!-- = image_tag(\"logo-with-type-large.png\") -->\n",
      "<!-- = image_tag(\"logo-with-type.png\") -->\n",
      "</a>\n",
      "<a class=\"dropdown-toggle\" data-toggle=\"dropdown\" href=\"#\">\n",
      "Prices\n",
      "<span class=\"caret\"></span>\n",
      "</a>\n",
      "<a href=\"/prices/standard\">Price Lists</a>\n",
      "<a href=\"/movers/standard\">Movers and Shakers</a>\n",
      "<a class=\"dropdown-toggle\" data-toggle=\"dropdown\" href=\"#\">\n",
      "Decks\n",
      "<span class=\"caret\"></span>\n",
      "</a>\n",
      "<a href=\"/metagame/standard\">Metagame</a>\n",
      "<a href=\"/format-staples/standard\">Format Staples</a>\n",
      "<a href=\"/superbrew\">SuperBrew</a>\n",
      "<a href=\"/deck/custom/standard\">User Submitted Decks</a>\n"
     ]
    }
   ],
   "source": [
    "links = soup.find_all('a')\n",
    "\n",
    "display(f'There are {len(links)} links')\n",
    "\n",
    "for link in links[:10]:\n",
    "    print(link)"
   ]
  },
  {
   "cell_type": "markdown",
   "metadata": {},
   "source": [
    "Wow, that's a lot of links! Well, we could in theory go to each of those links, then go to each link that each of those links goes to (if we haven't been there already), and so on. This would allow us to trawl the whole site."
   ]
  }
 ],
 "metadata": {
  "kernelspec": {
   "display_name": "Python 3",
   "language": "python",
   "name": "python3"
  },
  "language_info": {
   "codemirror_mode": {
    "name": "ipython",
    "version": 3
   },
   "file_extension": ".py",
   "mimetype": "text/x-python",
   "name": "python",
   "nbconvert_exporter": "python",
   "pygments_lexer": "ipython3",
   "version": "3.7.6"
  }
 },
 "nbformat": 4,
 "nbformat_minor": 4
}
