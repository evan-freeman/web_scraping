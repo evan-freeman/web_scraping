{
 "cells": [
  {
   "cell_type": "markdown",
   "metadata": {},
   "source": [
    "# Web Scraping mtggoldfish.com"
   ]
  },
  {
   "cell_type": "markdown",
   "metadata": {},
   "source": [
    "So, yes, I'm a total nerd. I like Magic the Gathering. But at least I don't LARP!!! (jk, no nerd shaming here)\n",
    "\n",
    "Let's try scraping mtggoldfish.com, which is an amazing site with all kinds of data and news on the game. But particularly, it has prices of cards, which we could (in theory) scrape, then use to build a ML model to predict card prices, and then use it to become fabulosuly wealthy and take over the world?\n",
    "\n",
    "Or maybe just get some Commander singles at a decent price. WIZARDS PLEASE JUST REPRINT THE GOOD LANDS SO I DON'T HAVE TO RUN ALL TAPLANDS FOR MY 5 COLOR JANK!!!"
   ]
  },
  {
   "cell_type": "markdown",
   "metadata": {},
   "source": [
    "# Setup"
   ]
  },
  {
   "cell_type": "code",
   "execution_count": 1,
   "metadata": {},
   "outputs": [],
   "source": [
    "import re\n",
    "import requests\n",
    "from bs4 import BeautifulSoup"
   ]
  },
  {
   "cell_type": "code",
   "execution_count": 2,
   "metadata": {},
   "outputs": [],
   "source": [
    "url = r'https://www.mtggoldfish.com/'\n",
    "\n",
    "r = requests.get(url)\n",
    "\n",
    "data = r.text"
   ]
  },
  {
   "cell_type": "markdown",
   "metadata": {},
   "source": [
    "So here's what the raw html looks like as a text file. Pretty much unintelligable."
   ]
  },
  {
   "cell_type": "code",
   "execution_count": 13,
   "metadata": {
    "scrolled": true
   },
   "outputs": [
    {
     "data": {
      "text/plain": [
       "'<!DOCTYPE html>\\n<html lang=\\'en\\' xmlns=\\'http://www.w3.org/1999/xhtml\\'>\\n<head>\\n<title>MTGGoldfish - Magic the Gathering Prices, Decks and Strategy</title>\\n<meta name=\"description\" content=\"Magic the Gathering and Magic Online prices, decks and strategy.\">\\n<meta name=\"keywords\" content=\"magic: the gathering price list, mtg price list, mtgo price list, decks, metagame, archetype, standard, modern, legacy, graphs, charts, mtgo prices, prices, speculation, speculators, trends, stocks\">\\n<meta property=\"og:title\" content=\"MTGGoldfish - Magic the Gathering Prices, Decks and Strategy\">\\n<meta property=\"og:type\" content=\"website\">\\n<meta property=\"og:url\" content=\"https://www.mtggoldfish.com/\">\\n<meta property=\"og:description\" content=\"Magic the Gathering and Magic Online prices, decks and strategy.\">\\n<meta name=\"twitter:card\" content=\"summary\">\\n<meta name=\"twitter:site\" content=\"@mtggoldfish\">\\n<link rel=\"alternate\" type=\"application/atom+xml\" title=\"ATOM\" href=\"https://www.mtggoldfish.com/feed\" />\\n'"
      ]
     },
     "execution_count": 13,
     "metadata": {},
     "output_type": "execute_result"
    }
   ],
   "source": [
    "data[:1000]"
   ]
  },
  {
   "cell_type": "markdown",
   "metadata": {},
   "source": [
    "But, we can use beautiful soup to get some nice data out of this doc."
   ]
  },
  {
   "cell_type": "code",
   "execution_count": 4,
   "metadata": {},
   "outputs": [],
   "source": [
    "soup = BeautifulSoup(data)"
   ]
  },
  {
   "cell_type": "markdown",
   "metadata": {},
   "source": [
    "So, step 1 is to just take a look at what we're dealing with. BS (beautiful soup) has a nice command so see all the html with proper indents, which makes it more readable."
   ]
  },
  {
   "cell_type": "code",
   "execution_count": 5,
   "metadata": {},
   "outputs": [
    {
     "name": "stdout",
     "output_type": "stream",
     "text": [
      "<!DOCTYPE html>\n",
      "<html lang=\"en\" xmlns=\"http://www.w3.org/1999/xhtml\">\n",
      " <head>\n",
      "  <title>\n",
      "   MTGGoldfish - Magic the Gathering Prices, Decks and Strategy\n",
      "  </title>\n",
      "  <meta content=\"Magic the Gathering and Magic Online prices, decks and strategy.\" name=\"description\"/>\n",
      "  <meta content=\"magic: the gathering price list, mtg price list, mtgo price list, decks, metagame, archetype, standard, modern, legacy, graphs, charts, mtgo prices, prices, speculation, speculators, trends, stocks\" name=\"keywords\"/>\n",
      "  <meta content=\"MTGGoldfish - Magic the Gathering Prices, Decks and Strategy\" property=\"og:title\"/>\n",
      "  <meta content=\"website\" property=\"og:type\"/>\n",
      "  <meta content=\"https://www.mtggoldfish.com/\" property=\"og:url\"/>\n",
      "  <meta content=\"Magic the Gathering and Magic Online prices, decks and strategy.\" property=\"og:description\"/>\n",
      "  <meta content=\"summary\" name=\"twitter:card\"/>\n",
      "  <meta content=\"@mtggoldfish\" name=\"twitter:site\"/>\n",
      "  <link href=\"https://www.mtggoldfish.com/feed\" rel=\"alternate\" title=\"A\n"
     ]
    }
   ],
   "source": [
    "print(soup.prettify()[:1000])"
   ]
  },
  {
   "cell_type": "markdown",
   "metadata": {},
   "source": [
    "But, this is still pretty hard to parse. Let's get rid of all the html tags and just look at the text."
   ]
  },
  {
   "cell_type": "code",
   "execution_count": 20,
   "metadata": {},
   "outputs": [
    {
     "name": "stdout",
     "output_type": "stream",
     "text": [
      "\n",
      "\n",
      "MTGGoldfish - Magic the Gathering Prices, Decks and Strategy\n",
      "\n",
      "\n",
      "\n",
      "\n",
      "\n",
      "\n",
      "\n",
      "\n",
      "\n",
      "\n",
      "\n",
      "\n",
      "\n",
      "\n",
      "\n",
      "\n",
      "\n",
      "\n",
      "\n",
      "\n",
      "\n",
      "\n",
      "\n",
      "(function() {\n",
      "var _fbq = window._fbq || (window._fbq = []);\n",
      "if (!_fbq.loaded) {\n",
      "var fbds = document.createElement('script');\n",
      "fbds.async = true;\n",
      "fbds.src = '//connect.facebook.net/en_US/fbds.js';\n",
      "var s = document.getElementsByTagName('script')[0];\n",
      "s.parentNode.insertBefore(fbds, s);\n",
      "_fbq.loaded = true;\n",
      "}\n",
      "_fbq.push(['addPixelId', '928681210525176']);\n",
      "})();\n",
      "window._fbq = window._fbq || [];\n",
      "window._fbq.push(['track', 'PixelInitialized', {}]);\n",
      "\n",
      "\n",
      "\n",
      "  window[\"nitroAds\"] = window[\"nitroAds\"] || {\n",
      "    createAd: function() {\n",
      "      window.nitroAds.queue.push([\"createAd\", arguments]);\n",
      "    },\n",
      "    queue: []\n",
      "  };\n",
      "\n",
      "\n",
      "\n",
      "\n",
      "\n",
      "\n",
      "\n",
      "\n",
      "\n",
      "\n",
      "\n",
      "\n",
      "\n",
      "\n",
      "\n",
      "\n",
      "\n",
      "\n",
      "\n",
      "\n",
      "\n",
      "\n",
      "Toggle navigation\n",
      "\n",
      "\n",
      "\n",
      "\n",
      "\n",
      "\n",
      "\n",
      "\n",
      "\n",
      "\n",
      "\n",
      "\n",
      "\n",
      "\n",
      "Prices\n",
      "\n",
      "\n",
      "\n",
      "Price Lists\n",
      "Movers and Shakers\n",
      "\n",
      "\n",
      "\n",
      "\n",
      "Decks\n",
      "\n",
      "\n",
      "\n",
      "Metagame\n",
      "Format Staples\n",
      "SuperBrew\n",
      "User Submitted Decks\n",
      "User Submitted Decks\n",
      "Submit a Deck\n",
      "\n",
      "\n",
      "Articles\n",
      "\n",
      "\n",
      "Tools\n",
      "\n",
      "\n",
      "\n",
      "My Collection\n",
      "My Decks\n",
      "My Price Alerts\n",
      "Premium Membership\n",
      "\n",
      "Deck Pricer\n",
      "Chrome Browser Ext\n"
     ]
    }
   ],
   "source": [
    "text = soup.get_text(strip = False)\n",
    "print(text[:1000])"
   ]
  },
  {
   "cell_type": "markdown",
   "metadata": {},
   "source": [
    "Well, that's not too bad. Though it's still a bit messy."
   ]
  },
  {
   "cell_type": "code",
   "execution_count": 12,
   "metadata": {},
   "outputs": [
    {
     "data": {
      "text/plain": [
       "'There are 162 links'"
      ]
     },
     "metadata": {},
     "output_type": "display_data"
    },
    {
     "name": "stdout",
     "output_type": "stream",
     "text": [
      "/\n",
      "/\n",
      "#\n",
      "/prices/standard\n",
      "/movers/standard\n",
      "#\n",
      "/metagame/standard\n",
      "/format-staples/standard\n",
      "/superbrew\n",
      "/deck/custom/standard\n"
     ]
    }
   ],
   "source": [
    "links = soup.find_all('a')\n",
    "\n",
    "display(f'There are {len(links)} links')\n",
    "\n",
    "for link in links[:10]:\n",
    "    print(link.get('href'))"
   ]
  },
  {
   "cell_type": "markdown",
   "metadata": {},
   "source": [
    "Wow, that's a lot of links! Well, we could in theory go to each of those links, then go to each link that each of those links goes to (if we haven't been there already), and so on. This would allow us to trawl the whole site."
   ]
  }
 ],
 "metadata": {
  "kernelspec": {
   "display_name": "Python 3",
   "language": "python",
   "name": "python3"
  },
  "language_info": {
   "codemirror_mode": {
    "name": "ipython",
    "version": 3
   },
   "file_extension": ".py",
   "mimetype": "text/x-python",
   "name": "python",
   "nbconvert_exporter": "python",
   "pygments_lexer": "ipython3",
   "version": "3.7.6"
  }
 },
 "nbformat": 4,
 "nbformat_minor": 4
}
