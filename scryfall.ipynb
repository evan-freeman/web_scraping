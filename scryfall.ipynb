{
 "cells": [
  {
   "cell_type": "markdown",
   "metadata": {},
   "source": [
    "# Web Scraping scryfall.com"
   ]
  },
  {
   "cell_type": "markdown",
   "metadata": {
    "pycharm": {
     "name": "#%% md\n"
    }
   },
   "source": [
    "# Introduction"
   ]
  },
  {
   "cell_type": "markdown",
   "metadata": {},
   "source": [
    "Hello, I'm Evan Freeman. For fun, and to work on some new skillsets (including web scraping and regex), I'm going to try to get some data from a website called scryfall.com. This website houses all sorts of useful info about a card game called Magic the Gathering. Yes, it's a super nerdy game. But its over 25 years old, and there's all sorts of interesting data we can work with about it, including card properties and prices!"
   ]
  },
  {
   "cell_type": "markdown",
   "metadata": {},
   "source": [
    "# Setup"
   ]
  },
  {
   "cell_type": "code",
   "execution_count": 2,
   "metadata": {
    "pycharm": {
     "is_executing": false
    },
    "scrolled": true
   },
   "outputs": [],
   "source": [
    "import re\n",
    "import requests\n",
    "from bs4 import BeautifulSoup\n",
    "import pandas as pd\n",
    "import numpy as np\n",
    "import matplotlib.pyplot as plt\n",
    "import seaborn as sns\n",
    "import time"
   ]
  },
  {
   "cell_type": "markdown",
   "metadata": {
    "pycharm": {
     "name": "#%% md\n"
    }
   },
   "source": [
    "# A Better Way"
   ]
  },
  {
   "cell_type": "markdown",
   "metadata": {
    "pycharm": {
     "name": "#%% md\n"
    }
   },
   "source": [
    "So, I tried a certain approach when I first started, which you can see at the end. I'm leaving it in for academic purposes. But, I've since discovered a better way, which you can see here.\n",
    "\n",
    "The sets page has some good stuff! Like number of cards and release date! I need to get that!!!\n",
    "\n",
    "Let's inspect the page in Chrome to see which tag has the info I want.\n",
    "\n",
    "It looks like each row is contained within a 'tr' tag. So let's dissect one of these."
   ]
  },
  {
   "cell_type": "code",
   "execution_count": 3,
   "metadata": {
    "pycharm": {
     "is_executing": false
    }
   },
   "outputs": [],
   "source": [
    "def clean_text(text):\n",
    "    \"\"\"A regex to clean up text, by removing formatting characters and leading or trailing whitespace\"\"\"\n",
    "\n",
    "#     text = re.sub(r'([\\n])|[\\r]|(^\\s+)|(\\s+$)', '', text) # Meant to be a combined regex, not working\n",
    "    text = re.sub(r'[\\n]', '', text) # Delete line breaks\n",
    "    text = re.sub(r'[\\r]', '', text) # Delete carriage returns with a space\n",
    "    text = re.sub(r'(^\\s+)|(\\s+$)', '', text) # Delete all leading or trailing whitespace\n",
    "    return text\n",
    "\n",
    "# Ya, I could probably combine all these into one regex, and compile it. But I'm in a hurry"
   ]
  },
  {
   "cell_type": "code",
   "execution_count": 4,
   "metadata": {
    "pycharm": {
     "is_executing": false,
     "name": "#%%\n"
    },
    "scrolled": true
   },
   "outputs": [],
   "source": [
    "r = requests.get(r'https://www.scryfall.com/sets')\n",
    "\n",
    "sets_data = r.text\n",
    "\n",
    "sets_soup = BeautifulSoup(sets_data)"
   ]
  },
  {
   "cell_type": "code",
   "execution_count": 6,
   "metadata": {
    "scrolled": true
   },
   "outputs": [
    {
     "data": {
      "text/plain": [
       "[['Historic Anthology 2',\n",
       "  'HA2',\n",
       "  '22',\n",
       "  '2020-03-12',\n",
       "  'https://scryfall.com/sets/ha2'],\n",
       " ['Unsanctioned', 'UND', '96', '2020-02-29', 'https://scryfall.com/sets/und'],\n",
       " ['Unsanctioned Tokens',\n",
       "  'TUND',\n",
       "  '6',\n",
       "  '2020-02-29',\n",
       "  'https://scryfall.com/sets/tund'],\n",
       " ['Theros Beyond Death',\n",
       "  'THB',\n",
       "  '358',\n",
       "  '2020-01-24',\n",
       "  'https://scryfall.com/sets/thb'],\n",
       " ['Theros Beyond Death Promos',\n",
       "  'PTHB',\n",
       "  '136',\n",
       "  '2020-01-24',\n",
       "  'https://scryfall.com/sets/pthb'],\n",
       " ['Theros Beyond Death Tokens',\n",
       "  'TTHB',\n",
       "  '14',\n",
       "  '2020-01-24',\n",
       "  'https://scryfall.com/sets/tthb'],\n",
       " ['MagicFest 2020',\n",
       "  'PF20',\n",
       "  '6',\n",
       "  '2020-01-01',\n",
       "  'https://scryfall.com/sets/pf20'],\n",
       " ['Judge Gift Cards 2020',\n",
       "  'J20',\n",
       "  '6',\n",
       "  '2020-01-01',\n",
       "  'https://scryfall.com/sets/j20'],\n",
       " ['Secret Lair Drop',\n",
       "  'SLD',\n",
       "  '60',\n",
       "  '2019-12-02',\n",
       "  'https://scryfall.com/sets/sld'],\n",
       " ['Secret Lair Drop Promos',\n",
       "  'PSLD',\n",
       "  '34',\n",
       "  '2019-12-02',\n",
       "  'https://scryfall.com/sets/psld']]"
      ]
     },
     "execution_count": 6,
     "metadata": {},
     "output_type": "execute_result"
    }
   ],
   "source": [
    "# I read that its MUCH more efficient to put all the data into a list or dict, then append to df or create a df\n",
    "\n",
    "lst = []\n",
    "\n",
    "for row in sets_soup.find_all('tr')[1:]:\n",
    "    boxes = row.find_all('td')\n",
    "    info = boxes[0].text.rsplit(' ', 1) + [boxes[1].text, boxes[2].text, boxes[1].find('a').get('href')]\n",
    "    info = [clean_text(text) for text in info]\n",
    "    lst.append(info)\n",
    "\n",
    "lst[:10]"
   ]
  },
  {
   "cell_type": "code",
   "execution_count": 7,
   "metadata": {
    "pycharm": {
     "name": "#%%\n"
    }
   },
   "outputs": [
    {
     "data": {
      "text/html": [
       "<div>\n",
       "<style scoped>\n",
       "    .dataframe tbody tr th:only-of-type {\n",
       "        vertical-align: middle;\n",
       "    }\n",
       "\n",
       "    .dataframe tbody tr th {\n",
       "        vertical-align: top;\n",
       "    }\n",
       "\n",
       "    .dataframe thead th {\n",
       "        text-align: right;\n",
       "    }\n",
       "</style>\n",
       "<table border=\"1\" class=\"dataframe\">\n",
       "  <thead>\n",
       "    <tr style=\"text-align: right;\">\n",
       "      <th></th>\n",
       "      <th>name</th>\n",
       "      <th>abbreviation</th>\n",
       "      <th>num_cards</th>\n",
       "      <th>release_date</th>\n",
       "      <th>url</th>\n",
       "    </tr>\n",
       "  </thead>\n",
       "  <tbody>\n",
       "    <tr>\n",
       "      <th>0</th>\n",
       "      <td>Historic Anthology 2</td>\n",
       "      <td>HA2</td>\n",
       "      <td>22</td>\n",
       "      <td>2020-03-12</td>\n",
       "      <td>https://scryfall.com/sets/ha2</td>\n",
       "    </tr>\n",
       "    <tr>\n",
       "      <th>1</th>\n",
       "      <td>Unsanctioned</td>\n",
       "      <td>UND</td>\n",
       "      <td>96</td>\n",
       "      <td>2020-02-29</td>\n",
       "      <td>https://scryfall.com/sets/und</td>\n",
       "    </tr>\n",
       "    <tr>\n",
       "      <th>2</th>\n",
       "      <td>Unsanctioned Tokens</td>\n",
       "      <td>TUND</td>\n",
       "      <td>6</td>\n",
       "      <td>2020-02-29</td>\n",
       "      <td>https://scryfall.com/sets/tund</td>\n",
       "    </tr>\n",
       "    <tr>\n",
       "      <th>3</th>\n",
       "      <td>Theros Beyond Death</td>\n",
       "      <td>THB</td>\n",
       "      <td>358</td>\n",
       "      <td>2020-01-24</td>\n",
       "      <td>https://scryfall.com/sets/thb</td>\n",
       "    </tr>\n",
       "    <tr>\n",
       "      <th>4</th>\n",
       "      <td>Theros Beyond Death Promos</td>\n",
       "      <td>PTHB</td>\n",
       "      <td>136</td>\n",
       "      <td>2020-01-24</td>\n",
       "      <td>https://scryfall.com/sets/pthb</td>\n",
       "    </tr>\n",
       "    <tr>\n",
       "      <th>...</th>\n",
       "      <td>...</td>\n",
       "      <td>...</td>\n",
       "      <td>...</td>\n",
       "      <td>...</td>\n",
       "      <td>...</td>\n",
       "    </tr>\n",
       "    <tr>\n",
       "      <th>576</th>\n",
       "      <td>Intl. Collectors’ Edition</td>\n",
       "      <td>CEI</td>\n",
       "      <td>302</td>\n",
       "      <td>1993-12-10</td>\n",
       "      <td>https://scryfall.com/sets/cei</td>\n",
       "    </tr>\n",
       "    <tr>\n",
       "      <th>577</th>\n",
       "      <td>Collectors’ Edition</td>\n",
       "      <td>CED</td>\n",
       "      <td>302</td>\n",
       "      <td>1993-12-10</td>\n",
       "      <td>https://scryfall.com/sets/ced</td>\n",
       "    </tr>\n",
       "    <tr>\n",
       "      <th>578</th>\n",
       "      <td>Unlimited Edition</td>\n",
       "      <td>2ED</td>\n",
       "      <td>302</td>\n",
       "      <td>1993-12-01</td>\n",
       "      <td>https://scryfall.com/sets/2ed</td>\n",
       "    </tr>\n",
       "    <tr>\n",
       "      <th>579</th>\n",
       "      <td>Limited Edition Beta</td>\n",
       "      <td>LEB</td>\n",
       "      <td>302</td>\n",
       "      <td>1993-10-04</td>\n",
       "      <td>https://scryfall.com/sets/leb</td>\n",
       "    </tr>\n",
       "    <tr>\n",
       "      <th>580</th>\n",
       "      <td>Limited Edition Alpha</td>\n",
       "      <td>LEA</td>\n",
       "      <td>295</td>\n",
       "      <td>1993-08-05</td>\n",
       "      <td>https://scryfall.com/sets/lea</td>\n",
       "    </tr>\n",
       "  </tbody>\n",
       "</table>\n",
       "<p>581 rows × 5 columns</p>\n",
       "</div>"
      ],
      "text/plain": [
       "                           name abbreviation  num_cards release_date  \\\n",
       "0          Historic Anthology 2          HA2         22   2020-03-12   \n",
       "1                  Unsanctioned          UND         96   2020-02-29   \n",
       "2           Unsanctioned Tokens         TUND          6   2020-02-29   \n",
       "3           Theros Beyond Death          THB        358   2020-01-24   \n",
       "4    Theros Beyond Death Promos         PTHB        136   2020-01-24   \n",
       "..                          ...          ...        ...          ...   \n",
       "576   Intl. Collectors’ Edition          CEI        302   1993-12-10   \n",
       "577         Collectors’ Edition          CED        302   1993-12-10   \n",
       "578           Unlimited Edition          2ED        302   1993-12-01   \n",
       "579        Limited Edition Beta          LEB        302   1993-10-04   \n",
       "580       Limited Edition Alpha          LEA        295   1993-08-05   \n",
       "\n",
       "                                url  \n",
       "0     https://scryfall.com/sets/ha2  \n",
       "1     https://scryfall.com/sets/und  \n",
       "2    https://scryfall.com/sets/tund  \n",
       "3     https://scryfall.com/sets/thb  \n",
       "4    https://scryfall.com/sets/pthb  \n",
       "..                              ...  \n",
       "576   https://scryfall.com/sets/cei  \n",
       "577   https://scryfall.com/sets/ced  \n",
       "578   https://scryfall.com/sets/2ed  \n",
       "579   https://scryfall.com/sets/leb  \n",
       "580   https://scryfall.com/sets/lea  \n",
       "\n",
       "[581 rows x 5 columns]"
      ]
     },
     "execution_count": 7,
     "metadata": {},
     "output_type": "execute_result"
    }
   ],
   "source": [
    "sets = pd.DataFrame(lst, columns = ['name', 'abbreviation', 'num_cards', 'release_date', 'url'])\n",
    "sets.num_cards = sets.num_cards.astype('int64')\n",
    "sets.release_date = pd.to_datetime(sets.release_date)\n",
    "sets"
   ]
  },
  {
   "cell_type": "markdown",
   "metadata": {},
   "source": [
    "There's a few entries that don't have the full urls, so let's fix that."
   ]
  },
  {
   "cell_type": "code",
   "execution_count": 8,
   "metadata": {
    "pycharm": {
     "name": "#%%\n"
    }
   },
   "outputs": [],
   "source": [
    "mask = sets.url.apply(lambda site: site[:5] != 'https')\n",
    "sets.loc[mask, 'url'] = sets.loc[mask, 'url'].apply(lambda site: 'https://scryfall.com' + site)"
   ]
  },
  {
   "cell_type": "markdown",
   "metadata": {
    "pycharm": {
     "name": "#%% md\n"
    }
   },
   "source": [
    "I could add info about which are \"subsets\", like promos and tokens, as those tags have an \"indent class\". But I won't worry about that now.\n",
    "\n",
    "Once I learn SQL, that might be a better way to keep track of this stuff"
   ]
  },
  {
   "cell_type": "markdown",
   "metadata": {
    "pycharm": {
     "name": "#%% md\n"
    }
   },
   "source": [
    "# UND"
   ]
  },
  {
   "cell_type": "markdown",
   "metadata": {
    "pycharm": {
     "name": "#%% md\n"
    }
   },
   "source": [
    "Ok, let's try to grab all the info we can for one set. Then we'll generalize that technique for all sets. I guess we'll store each in a seperate data frame for now. Though I really am starting to think I need to use SQL.\n",
    "\n",
    "Each set page has pictures of every card (by default). I can activate a checklist view by adding '?as=checklist', which makes it easier to get the data I want.\n",
    "\n",
    "We end up with a similar html structure to the sets page, so I'll reuse most of that code."
   ]
  },
  {
   "cell_type": "code",
   "execution_count": 9,
   "metadata": {
    "pycharm": {
     "name": "#%%\n"
    }
   },
   "outputs": [],
   "source": [
    "r = requests.get(r'https://scryfall.com/sets/und?as=checklist')\n",
    "\n",
    "data = r.text\n",
    "\n",
    "soup = BeautifulSoup(data)"
   ]
  },
  {
   "cell_type": "code",
   "execution_count": 10,
   "metadata": {
    "pycharm": {
     "is_executing": false,
     "name": "#%%\n"
    },
    "scrolled": true
   },
   "outputs": [
    {
     "data": {
      "text/plain": [
       "[['UND',\n",
       "  '1',\n",
       "  'Adorable Kitten',\n",
       "  '{W}',\n",
       "  'Host Creature',\n",
       "  'C',\n",
       "  'EN',\n",
       "  'Andrea Radeck',\n",
       "  '$0.14',\n",
       "  '€0.06',\n",
       "  ''],\n",
       " ['UND',\n",
       "  '2',\n",
       "  'AWOL',\n",
       "  '{2}{W}',\n",
       "  'Instant',\n",
       "  'C',\n",
       "  'EN',\n",
       "  'Stephen Tappin',\n",
       "  '$0.13',\n",
       "  '€0.05',\n",
       "  ''],\n",
       " ['UND',\n",
       "  '3',\n",
       "  'Emcee',\n",
       "  '{2}{W}',\n",
       "  'Creature',\n",
       "  'U',\n",
       "  'EN',\n",
       "  'Quinton Hoover',\n",
       "  '$0.13',\n",
       "  '€0.06',\n",
       "  ''],\n",
       " ['UND',\n",
       "  '4',\n",
       "  'Flavor Judge',\n",
       "  '{1}{W}',\n",
       "  'Creature',\n",
       "  'R',\n",
       "  'EN',\n",
       "  'Mike Burns',\n",
       "  '$0.25',\n",
       "  '€0.18',\n",
       "  ''],\n",
       " ['UND',\n",
       "  '5',\n",
       "  'Frankie Peanuts',\n",
       "  '{2}{W}{W}',\n",
       "  'Lgd. Creature',\n",
       "  'R',\n",
       "  'EN',\n",
       "  'Thomas M. Baxa',\n",
       "  '$0.50',\n",
       "  '€0.16',\n",
       "  ''],\n",
       " ['UND',\n",
       "  '6',\n",
       "  'GO TO JAIL',\n",
       "  '{W}',\n",
       "  'Enchantment',\n",
       "  'C',\n",
       "  'EN',\n",
       "  'Marco Teixeira',\n",
       "  '$0.13',\n",
       "  '€0.02',\n",
       "  ''],\n",
       " ['UND',\n",
       "  '7',\n",
       "  'Humming-',\n",
       "  '',\n",
       "  'Creature',\n",
       "  'C',\n",
       "  'EN',\n",
       "  'Mark Behm',\n",
       "  '$0.14',\n",
       "  '€0.08',\n",
       "  ''],\n",
       " ['UND',\n",
       "  '8',\n",
       "  'Knight of the Hokey Pokey',\n",
       "  '{W}{W}',\n",
       "  'Creature',\n",
       "  'C',\n",
       "  'EN',\n",
       "  'Kev Walker',\n",
       "  '$0.12',\n",
       "  '€0.02',\n",
       "  ''],\n",
       " ['UND',\n",
       "  '9',\n",
       "  \"Look at Me, I'm R&D\",\n",
       "  '{2}{W}',\n",
       "  'Enchantment',\n",
       "  'R',\n",
       "  'EN',\n",
       "  '',\n",
       "  '$0.16',\n",
       "  '€0.16',\n",
       "  ''],\n",
       " ['UND',\n",
       "  '10',\n",
       "  \"Look at Me, I'm the DCI\",\n",
       "  '{5}{W}{W}',\n",
       "  'Sorcery',\n",
       "  'R',\n",
       "  'EN',\n",
       "  'Mark Rosewater',\n",
       "  '$0.16',\n",
       "  '€0.17',\n",
       "  '']]"
      ]
     },
     "execution_count": 10,
     "metadata": {},
     "output_type": "execute_result"
    }
   ],
   "source": [
    "lst = []\n",
    "\n",
    "for row in soup.find_all('tr')[1:]:\n",
    "    boxes = row.find_all('td')\n",
    "    info = [boxes[i].text for i in range(11)]\n",
    "    info = [clean_text(text) for text in info]\n",
    "    lst.append(info)\n",
    "\n",
    "lst[:10]"
   ]
  },
  {
   "cell_type": "code",
   "execution_count": 9,
   "metadata": {},
   "outputs": [
    {
     "data": {
      "text/html": [
       "<div>\n",
       "<style scoped>\n",
       "    .dataframe tbody tr th:only-of-type {\n",
       "        vertical-align: middle;\n",
       "    }\n",
       "\n",
       "    .dataframe tbody tr th {\n",
       "        vertical-align: top;\n",
       "    }\n",
       "\n",
       "    .dataframe thead th {\n",
       "        text-align: right;\n",
       "    }\n",
       "</style>\n",
       "<table border=\"1\" class=\"dataframe\">\n",
       "  <thead>\n",
       "    <tr style=\"text-align: right;\">\n",
       "      <th></th>\n",
       "      <th>set</th>\n",
       "      <th>collectors_num</th>\n",
       "      <th>name</th>\n",
       "      <th>cost</th>\n",
       "      <th>type</th>\n",
       "      <th>rarity</th>\n",
       "      <th>language</th>\n",
       "      <th>artist</th>\n",
       "      <th>usd</th>\n",
       "      <th>eur</th>\n",
       "      <th>tix</th>\n",
       "    </tr>\n",
       "  </thead>\n",
       "  <tbody>\n",
       "    <tr>\n",
       "      <th>0</th>\n",
       "      <td>UND</td>\n",
       "      <td>1</td>\n",
       "      <td>Adorable Kitten</td>\n",
       "      <td>{W}</td>\n",
       "      <td>Host Creature</td>\n",
       "      <td>C</td>\n",
       "      <td>EN</td>\n",
       "      <td>Andrea Radeck</td>\n",
       "      <td>$0.14</td>\n",
       "      <td>€0.06</td>\n",
       "      <td></td>\n",
       "    </tr>\n",
       "    <tr>\n",
       "      <th>1</th>\n",
       "      <td>UND</td>\n",
       "      <td>2</td>\n",
       "      <td>AWOL</td>\n",
       "      <td>{2}{W}</td>\n",
       "      <td>Instant</td>\n",
       "      <td>C</td>\n",
       "      <td>EN</td>\n",
       "      <td>Stephen Tappin</td>\n",
       "      <td>$0.13</td>\n",
       "      <td>€0.04</td>\n",
       "      <td></td>\n",
       "    </tr>\n",
       "    <tr>\n",
       "      <th>2</th>\n",
       "      <td>UND</td>\n",
       "      <td>3</td>\n",
       "      <td>Emcee</td>\n",
       "      <td>{2}{W}</td>\n",
       "      <td>Creature</td>\n",
       "      <td>U</td>\n",
       "      <td>EN</td>\n",
       "      <td>Quinton Hoover</td>\n",
       "      <td>$0.16</td>\n",
       "      <td>€0.06</td>\n",
       "      <td></td>\n",
       "    </tr>\n",
       "    <tr>\n",
       "      <th>3</th>\n",
       "      <td>UND</td>\n",
       "      <td>4</td>\n",
       "      <td>Flavor Judge</td>\n",
       "      <td>{1}{W}</td>\n",
       "      <td>Creature</td>\n",
       "      <td>R</td>\n",
       "      <td>EN</td>\n",
       "      <td>Mike Burns</td>\n",
       "      <td>$0.26</td>\n",
       "      <td>€0.19</td>\n",
       "      <td></td>\n",
       "    </tr>\n",
       "    <tr>\n",
       "      <th>4</th>\n",
       "      <td>UND</td>\n",
       "      <td>5</td>\n",
       "      <td>Frankie Peanuts</td>\n",
       "      <td>{2}{W}{W}</td>\n",
       "      <td>Lgd. Creature</td>\n",
       "      <td>R</td>\n",
       "      <td>EN</td>\n",
       "      <td>Thomas M. Baxa</td>\n",
       "      <td>$0.58</td>\n",
       "      <td>€0.16</td>\n",
       "      <td></td>\n",
       "    </tr>\n",
       "    <tr>\n",
       "      <th>...</th>\n",
       "      <td>...</td>\n",
       "      <td>...</td>\n",
       "      <td>...</td>\n",
       "      <td>...</td>\n",
       "      <td>...</td>\n",
       "      <td>...</td>\n",
       "      <td>...</td>\n",
       "      <td>...</td>\n",
       "      <td>...</td>\n",
       "      <td>...</td>\n",
       "      <td>...</td>\n",
       "    </tr>\n",
       "    <tr>\n",
       "      <th>91</th>\n",
       "      <td>UND</td>\n",
       "      <td>92</td>\n",
       "      <td>Swamp</td>\n",
       "      <td></td>\n",
       "      <td>Basic Land</td>\n",
       "      <td>C</td>\n",
       "      <td>EN</td>\n",
       "      <td>Adam Paquette</td>\n",
       "      <td>$0.27</td>\n",
       "      <td>€1.99</td>\n",
       "      <td></td>\n",
       "    </tr>\n",
       "    <tr>\n",
       "      <th>92</th>\n",
       "      <td>UND</td>\n",
       "      <td>93</td>\n",
       "      <td>Mountain</td>\n",
       "      <td></td>\n",
       "      <td>Basic Land</td>\n",
       "      <td>C</td>\n",
       "      <td>EN</td>\n",
       "      <td>Rob Alexander</td>\n",
       "      <td>$0.18</td>\n",
       "      <td>€0.02</td>\n",
       "      <td></td>\n",
       "    </tr>\n",
       "    <tr>\n",
       "      <th>93</th>\n",
       "      <td>UND</td>\n",
       "      <td>94</td>\n",
       "      <td>Mountain</td>\n",
       "      <td></td>\n",
       "      <td>Basic Land</td>\n",
       "      <td>C</td>\n",
       "      <td>EN</td>\n",
       "      <td>Adam Paquette</td>\n",
       "      <td>$0.18</td>\n",
       "      <td>€1.85</td>\n",
       "      <td></td>\n",
       "    </tr>\n",
       "    <tr>\n",
       "      <th>94</th>\n",
       "      <td>UND</td>\n",
       "      <td>95</td>\n",
       "      <td>Forest</td>\n",
       "      <td></td>\n",
       "      <td>Basic Land</td>\n",
       "      <td>C</td>\n",
       "      <td>EN</td>\n",
       "      <td>Mark Poole</td>\n",
       "      <td>$0.26</td>\n",
       "      <td>€0.02</td>\n",
       "      <td></td>\n",
       "    </tr>\n",
       "    <tr>\n",
       "      <th>95</th>\n",
       "      <td>UND</td>\n",
       "      <td>96</td>\n",
       "      <td>Forest</td>\n",
       "      <td></td>\n",
       "      <td>Basic Land</td>\n",
       "      <td>C</td>\n",
       "      <td>EN</td>\n",
       "      <td>Adam Paquette</td>\n",
       "      <td>$0.26</td>\n",
       "      <td>€1.73</td>\n",
       "      <td></td>\n",
       "    </tr>\n",
       "  </tbody>\n",
       "</table>\n",
       "<p>96 rows × 11 columns</p>\n",
       "</div>"
      ],
      "text/plain": [
       "    set collectors_num             name       cost           type rarity  \\\n",
       "0   UND              1  Adorable Kitten        {W}  Host Creature      C   \n",
       "1   UND              2             AWOL     {2}{W}        Instant      C   \n",
       "2   UND              3            Emcee     {2}{W}       Creature      U   \n",
       "3   UND              4     Flavor Judge     {1}{W}       Creature      R   \n",
       "4   UND              5  Frankie Peanuts  {2}{W}{W}  Lgd. Creature      R   \n",
       "..  ...            ...              ...        ...            ...    ...   \n",
       "91  UND             92            Swamp                Basic Land      C   \n",
       "92  UND             93         Mountain                Basic Land      C   \n",
       "93  UND             94         Mountain                Basic Land      C   \n",
       "94  UND             95           Forest                Basic Land      C   \n",
       "95  UND             96           Forest                Basic Land      C   \n",
       "\n",
       "   language          artist    usd    eur tix  \n",
       "0        EN   Andrea Radeck  $0.14  €0.06      \n",
       "1        EN  Stephen Tappin  $0.13  €0.04      \n",
       "2        EN  Quinton Hoover  $0.16  €0.06      \n",
       "3        EN      Mike Burns  $0.26  €0.19      \n",
       "4        EN  Thomas M. Baxa  $0.58  €0.16      \n",
       "..      ...             ...    ...    ...  ..  \n",
       "91       EN   Adam Paquette  $0.27  €1.99      \n",
       "92       EN   Rob Alexander  $0.18  €0.02      \n",
       "93       EN   Adam Paquette  $0.18  €1.85      \n",
       "94       EN      Mark Poole  $0.26  €0.02      \n",
       "95       EN   Adam Paquette  $0.26  €1.73      \n",
       "\n",
       "[96 rows x 11 columns]"
      ]
     },
     "execution_count": 9,
     "metadata": {},
     "output_type": "execute_result"
    }
   ],
   "source": [
    "cards = pd.DataFrame(lst, columns = ['set', 'collectors_num', 'name', 'cost', 'type', 'rarity', 'language', 'artist', 'usd', 'eur', 'tix'])\n",
    "cards"
   ]
  },
  {
   "cell_type": "markdown",
   "metadata": {
    "pycharm": {
     "name": "#%% md\n"
    }
   },
   "source": [
    "We did it!! Now, time to get ALL THE CARDS!!!"
   ]
  },
  {
   "cell_type": "markdown",
   "metadata": {
    "pycharm": {
     "name": "#%% md\n"
    }
   },
   "source": [
    "# ALL THE CARDS!"
   ]
  },
  {
   "cell_type": "code",
   "execution_count": 10,
   "metadata": {
    "pycharm": {
     "name": "#%%\n"
    }
   },
   "outputs": [
    {
     "name": "stdout",
     "output_type": "stream",
     "text": [
      "--- This program took 596.163845539093 seconds to run. ---\n"
     ]
    }
   ],
   "source": [
    "start_time = time.time()\n",
    "\n",
    "lst = []\n",
    "for index, site in sets.url.iteritems():\n",
    "    r = requests.get(f'{site}/?as=checklist')\n",
    "    data = r.text\n",
    "    soup = BeautifulSoup(data)\n",
    "    \n",
    "    for row in soup.find_all('tr')[1:]:\n",
    "        boxes = row.find_all('td')\n",
    "        info = [boxes[i].text for i in range(11)]\n",
    "        info = [clean_text(text) for text in info]\n",
    "        lst.append(info)\n",
    "        \n",
    "cards = pd.DataFrame(lst, columns = ['set', 'collectors_num', 'name', 'cost', 'type', 'rarity', 'language', 'artist', 'usd', 'eur', 'tix'])   \n",
    "run_time = time.time() - start_time\n",
    "print(f'--- This program took {run_time} seconds to run. ---')"
   ]
  },
  {
   "cell_type": "code",
   "execution_count": 11,
   "metadata": {
    "pycharm": {
     "name": "#%%\n"
    }
   },
   "outputs": [],
   "source": [
    "cards.to_csv('D:/code/Data/scryfall/cards.csv', header = True)"
   ]
  },
  {
   "cell_type": "code",
   "execution_count": 12,
   "metadata": {},
   "outputs": [
    {
     "data": {
      "text/html": [
       "<div>\n",
       "<style scoped>\n",
       "    .dataframe tbody tr th:only-of-type {\n",
       "        vertical-align: middle;\n",
       "    }\n",
       "\n",
       "    .dataframe tbody tr th {\n",
       "        vertical-align: top;\n",
       "    }\n",
       "\n",
       "    .dataframe thead th {\n",
       "        text-align: right;\n",
       "    }\n",
       "</style>\n",
       "<table border=\"1\" class=\"dataframe\">\n",
       "  <thead>\n",
       "    <tr style=\"text-align: right;\">\n",
       "      <th></th>\n",
       "      <th>set</th>\n",
       "      <th>collectors_num</th>\n",
       "      <th>name</th>\n",
       "      <th>cost</th>\n",
       "      <th>type</th>\n",
       "      <th>rarity</th>\n",
       "      <th>language</th>\n",
       "      <th>artist</th>\n",
       "      <th>usd</th>\n",
       "      <th>eur</th>\n",
       "      <th>tix</th>\n",
       "    </tr>\n",
       "  </thead>\n",
       "  <tbody>\n",
       "    <tr>\n",
       "      <th>0</th>\n",
       "      <td>UND</td>\n",
       "      <td>1</td>\n",
       "      <td>Adorable Kitten</td>\n",
       "      <td>{W}</td>\n",
       "      <td>Host Creature</td>\n",
       "      <td>C</td>\n",
       "      <td>EN</td>\n",
       "      <td>Andrea Radeck</td>\n",
       "      <td>$0.14</td>\n",
       "      <td>€0.06</td>\n",
       "      <td></td>\n",
       "    </tr>\n",
       "    <tr>\n",
       "      <th>1</th>\n",
       "      <td>UND</td>\n",
       "      <td>2</td>\n",
       "      <td>AWOL</td>\n",
       "      <td>{2}{W}</td>\n",
       "      <td>Instant</td>\n",
       "      <td>C</td>\n",
       "      <td>EN</td>\n",
       "      <td>Stephen Tappin</td>\n",
       "      <td>$0.13</td>\n",
       "      <td>€0.04</td>\n",
       "      <td></td>\n",
       "    </tr>\n",
       "    <tr>\n",
       "      <th>2</th>\n",
       "      <td>UND</td>\n",
       "      <td>3</td>\n",
       "      <td>Emcee</td>\n",
       "      <td>{2}{W}</td>\n",
       "      <td>Creature</td>\n",
       "      <td>U</td>\n",
       "      <td>EN</td>\n",
       "      <td>Quinton Hoover</td>\n",
       "      <td>$0.16</td>\n",
       "      <td>€0.06</td>\n",
       "      <td></td>\n",
       "    </tr>\n",
       "    <tr>\n",
       "      <th>3</th>\n",
       "      <td>UND</td>\n",
       "      <td>4</td>\n",
       "      <td>Flavor Judge</td>\n",
       "      <td>{1}{W}</td>\n",
       "      <td>Creature</td>\n",
       "      <td>R</td>\n",
       "      <td>EN</td>\n",
       "      <td>Mike Burns</td>\n",
       "      <td>$0.26</td>\n",
       "      <td>€0.19</td>\n",
       "      <td></td>\n",
       "    </tr>\n",
       "    <tr>\n",
       "      <th>4</th>\n",
       "      <td>UND</td>\n",
       "      <td>5</td>\n",
       "      <td>Frankie Peanuts</td>\n",
       "      <td>{2}{W}{W}</td>\n",
       "      <td>Lgd. Creature</td>\n",
       "      <td>R</td>\n",
       "      <td>EN</td>\n",
       "      <td>Thomas M. Baxa</td>\n",
       "      <td>$0.58</td>\n",
       "      <td>€0.16</td>\n",
       "      <td></td>\n",
       "    </tr>\n",
       "    <tr>\n",
       "      <th>...</th>\n",
       "      <td>...</td>\n",
       "      <td>...</td>\n",
       "      <td>...</td>\n",
       "      <td>...</td>\n",
       "      <td>...</td>\n",
       "      <td>...</td>\n",
       "      <td>...</td>\n",
       "      <td>...</td>\n",
       "      <td>...</td>\n",
       "      <td>...</td>\n",
       "      <td>...</td>\n",
       "    </tr>\n",
       "    <tr>\n",
       "      <th>55253</th>\n",
       "      <td>LEA</td>\n",
       "      <td>291</td>\n",
       "      <td>Swamp</td>\n",
       "      <td></td>\n",
       "      <td>Basic Land</td>\n",
       "      <td>C</td>\n",
       "      <td>EN</td>\n",
       "      <td>Dan Frazier</td>\n",
       "      <td>$19.41</td>\n",
       "      <td>€23.52</td>\n",
       "      <td></td>\n",
       "    </tr>\n",
       "    <tr>\n",
       "      <th>55254</th>\n",
       "      <td>LEA</td>\n",
       "      <td>292</td>\n",
       "      <td>Mountain</td>\n",
       "      <td></td>\n",
       "      <td>Basic Land</td>\n",
       "      <td>C</td>\n",
       "      <td>EN</td>\n",
       "      <td>Douglas Shuler</td>\n",
       "      <td>$29.23</td>\n",
       "      <td>€15.00</td>\n",
       "      <td></td>\n",
       "    </tr>\n",
       "    <tr>\n",
       "      <th>55255</th>\n",
       "      <td>LEA</td>\n",
       "      <td>293</td>\n",
       "      <td>Mountain</td>\n",
       "      <td></td>\n",
       "      <td>Basic Land</td>\n",
       "      <td>C</td>\n",
       "      <td>EN</td>\n",
       "      <td>Douglas Shuler</td>\n",
       "      <td>$19.98</td>\n",
       "      <td>€15.00</td>\n",
       "      <td></td>\n",
       "    </tr>\n",
       "    <tr>\n",
       "      <th>55256</th>\n",
       "      <td>LEA</td>\n",
       "      <td>294</td>\n",
       "      <td>Forest</td>\n",
       "      <td></td>\n",
       "      <td>Basic Land</td>\n",
       "      <td>C</td>\n",
       "      <td>EN</td>\n",
       "      <td>Christopher Rush</td>\n",
       "      <td>$30.73</td>\n",
       "      <td>€14.97</td>\n",
       "      <td></td>\n",
       "    </tr>\n",
       "    <tr>\n",
       "      <th>55257</th>\n",
       "      <td>LEA</td>\n",
       "      <td>295</td>\n",
       "      <td>Forest</td>\n",
       "      <td></td>\n",
       "      <td>Basic Land</td>\n",
       "      <td>C</td>\n",
       "      <td>EN</td>\n",
       "      <td>Christopher Rush</td>\n",
       "      <td>$39.95</td>\n",
       "      <td>€14.97</td>\n",
       "      <td></td>\n",
       "    </tr>\n",
       "  </tbody>\n",
       "</table>\n",
       "<p>55258 rows × 11 columns</p>\n",
       "</div>"
      ],
      "text/plain": [
       "       set collectors_num             name       cost           type rarity  \\\n",
       "0      UND              1  Adorable Kitten        {W}  Host Creature      C   \n",
       "1      UND              2             AWOL     {2}{W}        Instant      C   \n",
       "2      UND              3            Emcee     {2}{W}       Creature      U   \n",
       "3      UND              4     Flavor Judge     {1}{W}       Creature      R   \n",
       "4      UND              5  Frankie Peanuts  {2}{W}{W}  Lgd. Creature      R   \n",
       "...    ...            ...              ...        ...            ...    ...   \n",
       "55253  LEA            291            Swamp                Basic Land      C   \n",
       "55254  LEA            292         Mountain                Basic Land      C   \n",
       "55255  LEA            293         Mountain                Basic Land      C   \n",
       "55256  LEA            294           Forest                Basic Land      C   \n",
       "55257  LEA            295           Forest                Basic Land      C   \n",
       "\n",
       "      language            artist     usd     eur tix  \n",
       "0           EN     Andrea Radeck   $0.14   €0.06      \n",
       "1           EN    Stephen Tappin   $0.13   €0.04      \n",
       "2           EN    Quinton Hoover   $0.16   €0.06      \n",
       "3           EN        Mike Burns   $0.26   €0.19      \n",
       "4           EN    Thomas M. Baxa   $0.58   €0.16      \n",
       "...        ...               ...     ...     ...  ..  \n",
       "55253       EN       Dan Frazier  $19.41  €23.52      \n",
       "55254       EN    Douglas Shuler  $29.23  €15.00      \n",
       "55255       EN    Douglas Shuler  $19.98  €15.00      \n",
       "55256       EN  Christopher Rush  $30.73  €14.97      \n",
       "55257       EN  Christopher Rush  $39.95  €14.97      \n",
       "\n",
       "[55258 rows x 11 columns]"
      ]
     },
     "execution_count": 12,
     "metadata": {},
     "output_type": "execute_result"
    }
   ],
   "source": [
    "cards"
   ]
  },
  {
   "cell_type": "markdown",
   "metadata": {
    "pycharm": {
     "name": "#%% md\n"
    }
   },
   "source": [
    "# Data Cleaning and Exploration"
   ]
  },
  {
   "cell_type": "markdown",
   "metadata": {
    "pycharm": {
     "name": "#%% md\n"
    }
   },
   "source": [
    "Let's get our data into the correct data types, and clean up some things like weird symbols"
   ]
  },
  {
   "cell_type": "code",
   "execution_count": 53,
   "metadata": {},
   "outputs": [],
   "source": [
    "cards = pd.read_csv('D:/code/Data/scryfall/cards.csv')"
   ]
  },
  {
   "cell_type": "code",
   "execution_count": 54,
   "metadata": {},
   "outputs": [
    {
     "data": {
      "text/plain": [
       "Unnamed: 0            0\n",
       "set                   0\n",
       "collectors_num        0\n",
       "name                  0\n",
       "cost               7962\n",
       "type                 12\n",
       "rarity                0\n",
       "language              0\n",
       "artist               95\n",
       "usd                9964\n",
       "eur               15569\n",
       "tix               23108\n",
       "dtype: int64"
      ]
     },
     "execution_count": 54,
     "metadata": {},
     "output_type": "execute_result"
    }
   ],
   "source": [
    "cards.isnull().sum()"
   ]
  },
  {
   "cell_type": "code",
   "execution_count": 55,
   "metadata": {},
   "outputs": [
    {
     "data": {
      "text/plain": [
       "Creature                   20365\n",
       "Instant                     6427\n",
       "Sorcery                     5941\n",
       "Enchantment                 5284\n",
       "Artifact                    3652\n",
       "                           ...  \n",
       "Animal                         1\n",
       "Token // Token Creature        1\n",
       "Lgd. Snow Enchantment          1\n",
       "Enchantment // Creature        1\n",
       "土地                             1\n",
       "Name: type, Length: 95, dtype: int64"
      ]
     },
     "execution_count": 55,
     "metadata": {},
     "output_type": "execute_result"
    }
   ],
   "source": [
    "cards.type.value_counts()"
   ]
  },
  {
   "cell_type": "code",
   "execution_count": 88,
   "metadata": {},
   "outputs": [
    {
     "data": {
      "text/plain": [
       "{1}{W}                  1543\n",
       "{1}{G}                  1451\n",
       "{1}{U}                  1378\n",
       "{1}{R}                  1285\n",
       "{2}{R}                  1283\n",
       "                        ... \n",
       "{4}{R}{R}{G}{G}            1\n",
       "{7}{W}{W}{W}               1\n",
       "{B/R}{B/R}{B/R}{B/R}       1\n",
       "{3}{W}{W}{U}{U}            1\n",
       "{2}{U/R}{U/R}              1\n",
       "Name: cost, Length: 794, dtype: int64"
      ]
     },
     "execution_count": 88,
     "metadata": {},
     "output_type": "execute_result"
    }
   ],
   "source": [
    "cards.cost.value_counts()"
   ]
  },
  {
   "cell_type": "code",
   "execution_count": 92,
   "metadata": {},
   "outputs": [
    {
     "data": {
      "text/html": [
       "<div>\n",
       "<style scoped>\n",
       "    .dataframe tbody tr th:only-of-type {\n",
       "        vertical-align: middle;\n",
       "    }\n",
       "\n",
       "    .dataframe tbody tr th {\n",
       "        vertical-align: top;\n",
       "    }\n",
       "\n",
       "    .dataframe thead th {\n",
       "        text-align: right;\n",
       "    }\n",
       "</style>\n",
       "<table border=\"1\" class=\"dataframe\">\n",
       "  <thead>\n",
       "    <tr style=\"text-align: right;\">\n",
       "      <th></th>\n",
       "      <th>Unnamed: 0</th>\n",
       "      <th>set</th>\n",
       "      <th>collectors_num</th>\n",
       "      <th>name</th>\n",
       "      <th>type</th>\n",
       "      <th>rarity</th>\n",
       "      <th>language</th>\n",
       "      <th>artist</th>\n",
       "      <th>usd</th>\n",
       "      <th>eur</th>\n",
       "      <th>tix</th>\n",
       "    </tr>\n",
       "    <tr>\n",
       "      <th>cost</th>\n",
       "      <th></th>\n",
       "      <th></th>\n",
       "      <th></th>\n",
       "      <th></th>\n",
       "      <th></th>\n",
       "      <th></th>\n",
       "      <th></th>\n",
       "      <th></th>\n",
       "      <th></th>\n",
       "      <th></th>\n",
       "      <th></th>\n",
       "    </tr>\n",
       "  </thead>\n",
       "  <tbody>\n",
       "    <tr>\n",
       "      <th>{X}{Y}{Z}{R}{R}</th>\n",
       "      <td>1</td>\n",
       "      <td>1</td>\n",
       "      <td>1</td>\n",
       "      <td>1</td>\n",
       "      <td>1</td>\n",
       "      <td>1</td>\n",
       "      <td>1</td>\n",
       "      <td>1</td>\n",
       "      <td>1</td>\n",
       "      <td>1</td>\n",
       "      <td>0</td>\n",
       "    </tr>\n",
       "    <tr>\n",
       "      <th>{7}{W}{W}{W}</th>\n",
       "      <td>1</td>\n",
       "      <td>1</td>\n",
       "      <td>1</td>\n",
       "      <td>1</td>\n",
       "      <td>1</td>\n",
       "      <td>1</td>\n",
       "      <td>1</td>\n",
       "      <td>1</td>\n",
       "      <td>1</td>\n",
       "      <td>1</td>\n",
       "      <td>1</td>\n",
       "    </tr>\n",
       "    <tr>\n",
       "      <th>{2/G}{2/G}{2/G}</th>\n",
       "      <td>1</td>\n",
       "      <td>1</td>\n",
       "      <td>1</td>\n",
       "      <td>1</td>\n",
       "      <td>1</td>\n",
       "      <td>1</td>\n",
       "      <td>1</td>\n",
       "      <td>1</td>\n",
       "      <td>1</td>\n",
       "      <td>1</td>\n",
       "      <td>1</td>\n",
       "    </tr>\n",
       "    <tr>\n",
       "      <th>{2/U}{2/U}{2/U}</th>\n",
       "      <td>1</td>\n",
       "      <td>1</td>\n",
       "      <td>1</td>\n",
       "      <td>1</td>\n",
       "      <td>1</td>\n",
       "      <td>1</td>\n",
       "      <td>1</td>\n",
       "      <td>1</td>\n",
       "      <td>1</td>\n",
       "      <td>1</td>\n",
       "      <td>1</td>\n",
       "    </tr>\n",
       "    <tr>\n",
       "      <th>{7}{R}</th>\n",
       "      <td>1</td>\n",
       "      <td>1</td>\n",
       "      <td>1</td>\n",
       "      <td>1</td>\n",
       "      <td>1</td>\n",
       "      <td>1</td>\n",
       "      <td>1</td>\n",
       "      <td>1</td>\n",
       "      <td>1</td>\n",
       "      <td>1</td>\n",
       "      <td>1</td>\n",
       "    </tr>\n",
       "    <tr>\n",
       "      <th>...</th>\n",
       "      <td>...</td>\n",
       "      <td>...</td>\n",
       "      <td>...</td>\n",
       "      <td>...</td>\n",
       "      <td>...</td>\n",
       "      <td>...</td>\n",
       "      <td>...</td>\n",
       "      <td>...</td>\n",
       "      <td>...</td>\n",
       "      <td>...</td>\n",
       "      <td>...</td>\n",
       "    </tr>\n",
       "    <tr>\n",
       "      <th>{2}{R}</th>\n",
       "      <td>1283</td>\n",
       "      <td>1283</td>\n",
       "      <td>1283</td>\n",
       "      <td>1283</td>\n",
       "      <td>1283</td>\n",
       "      <td>1283</td>\n",
       "      <td>1283</td>\n",
       "      <td>1283</td>\n",
       "      <td>1081</td>\n",
       "      <td>1004</td>\n",
       "      <td>808</td>\n",
       "    </tr>\n",
       "    <tr>\n",
       "      <th>{1}{R}</th>\n",
       "      <td>1285</td>\n",
       "      <td>1285</td>\n",
       "      <td>1285</td>\n",
       "      <td>1285</td>\n",
       "      <td>1285</td>\n",
       "      <td>1285</td>\n",
       "      <td>1285</td>\n",
       "      <td>1285</td>\n",
       "      <td>1076</td>\n",
       "      <td>968</td>\n",
       "      <td>855</td>\n",
       "    </tr>\n",
       "    <tr>\n",
       "      <th>{1}{U}</th>\n",
       "      <td>1378</td>\n",
       "      <td>1378</td>\n",
       "      <td>1378</td>\n",
       "      <td>1378</td>\n",
       "      <td>1378</td>\n",
       "      <td>1378</td>\n",
       "      <td>1378</td>\n",
       "      <td>1378</td>\n",
       "      <td>1163</td>\n",
       "      <td>1078</td>\n",
       "      <td>913</td>\n",
       "    </tr>\n",
       "    <tr>\n",
       "      <th>{1}{G}</th>\n",
       "      <td>1451</td>\n",
       "      <td>1451</td>\n",
       "      <td>1451</td>\n",
       "      <td>1451</td>\n",
       "      <td>1451</td>\n",
       "      <td>1451</td>\n",
       "      <td>1451</td>\n",
       "      <td>1451</td>\n",
       "      <td>1184</td>\n",
       "      <td>1066</td>\n",
       "      <td>901</td>\n",
       "    </tr>\n",
       "    <tr>\n",
       "      <th>{1}{W}</th>\n",
       "      <td>1543</td>\n",
       "      <td>1543</td>\n",
       "      <td>1543</td>\n",
       "      <td>1543</td>\n",
       "      <td>1543</td>\n",
       "      <td>1543</td>\n",
       "      <td>1543</td>\n",
       "      <td>1543</td>\n",
       "      <td>1270</td>\n",
       "      <td>1184</td>\n",
       "      <td>980</td>\n",
       "    </tr>\n",
       "  </tbody>\n",
       "</table>\n",
       "<p>794 rows × 11 columns</p>\n",
       "</div>"
      ],
      "text/plain": [
       "                 Unnamed: 0   set  collectors_num  name  type  rarity  \\\n",
       "cost                                                                    \n",
       "{X}{Y}{Z}{R}{R}           1     1               1     1     1       1   \n",
       "{7}{W}{W}{W}              1     1               1     1     1       1   \n",
       "{2/G}{2/G}{2/G}           1     1               1     1     1       1   \n",
       "{2/U}{2/U}{2/U}           1     1               1     1     1       1   \n",
       "{7}{R}                    1     1               1     1     1       1   \n",
       "...                     ...   ...             ...   ...   ...     ...   \n",
       "{2}{R}                 1283  1283            1283  1283  1283    1283   \n",
       "{1}{R}                 1285  1285            1285  1285  1285    1285   \n",
       "{1}{U}                 1378  1378            1378  1378  1378    1378   \n",
       "{1}{G}                 1451  1451            1451  1451  1451    1451   \n",
       "{1}{W}                 1543  1543            1543  1543  1543    1543   \n",
       "\n",
       "                 language  artist   usd   eur  tix  \n",
       "cost                                                \n",
       "{X}{Y}{Z}{R}{R}         1       1     1     1    0  \n",
       "{7}{W}{W}{W}            1       1     1     1    1  \n",
       "{2/G}{2/G}{2/G}         1       1     1     1    1  \n",
       "{2/U}{2/U}{2/U}         1       1     1     1    1  \n",
       "{7}{R}                  1       1     1     1    1  \n",
       "...                   ...     ...   ...   ...  ...  \n",
       "{2}{R}               1283    1283  1081  1004  808  \n",
       "{1}{R}               1285    1285  1076   968  855  \n",
       "{1}{U}               1378    1378  1163  1078  913  \n",
       "{1}{G}               1451    1451  1184  1066  901  \n",
       "{1}{W}               1543    1543  1270  1184  980  \n",
       "\n",
       "[794 rows x 11 columns]"
      ]
     },
     "execution_count": 92,
     "metadata": {},
     "output_type": "execute_result"
    }
   ],
   "source": [
    "cards.groupby('cost').count().sort_values(by = 'name')"
   ]
  },
  {
   "cell_type": "code",
   "execution_count": 56,
   "metadata": {},
   "outputs": [
    {
     "data": {
      "text/plain": [
       "artist\n",
       "John Avon                                  1103\n",
       "Kev Walker                                 1027\n",
       "Mark Tedin                                  685\n",
       "Dan Frazier                                 677\n",
       "Greg Staples                                627\n",
       "                                           ... \n",
       "Susan Garfield                                1\n",
       "Svetlin Velinov & Jared Blando                1\n",
       "Sydney Adams                                  1\n",
       "Christopher Moeller & Anthony S. Waters       1\n",
       "Nick Bartoletti                               1\n",
       "Name: name, Length: 915, dtype: int64"
      ]
     },
     "execution_count": 56,
     "metadata": {},
     "output_type": "execute_result"
    }
   ],
   "source": [
    "cards.groupby('artist').count().name.sort_values(ascending = False)"
   ]
  },
  {
   "cell_type": "code",
   "execution_count": 57,
   "metadata": {},
   "outputs": [],
   "source": [
    "def to_float(x):\n",
    "    \"\"\"Convert the strings in the price columns to float\"\"\"\n",
    "    try:\n",
    "        return float(re.split('\\$|€', x)[-1])\n",
    "    except:\n",
    "        return x"
   ]
  },
  {
   "cell_type": "code",
   "execution_count": 58,
   "metadata": {
    "scrolled": true
   },
   "outputs": [],
   "source": [
    "# Clean up data types\n",
    "cards.loc[:, 'usd'] = cards.loc[:, 'usd'].apply(to_float)\n",
    "cards.loc[:, 'eur'] = cards.loc[:, 'eur'].apply(to_float)"
   ]
  },
  {
   "cell_type": "code",
   "execution_count": 59,
   "metadata": {
    "pycharm": {
     "name": "#%%\n"
    }
   },
   "outputs": [
    {
     "data": {
      "text/html": [
       "<div>\n",
       "<style scoped>\n",
       "    .dataframe tbody tr th:only-of-type {\n",
       "        vertical-align: middle;\n",
       "    }\n",
       "\n",
       "    .dataframe tbody tr th {\n",
       "        vertical-align: top;\n",
       "    }\n",
       "\n",
       "    .dataframe thead th {\n",
       "        text-align: right;\n",
       "    }\n",
       "</style>\n",
       "<table border=\"1\" class=\"dataframe\">\n",
       "  <thead>\n",
       "    <tr style=\"text-align: right;\">\n",
       "      <th></th>\n",
       "      <th>Unnamed: 0</th>\n",
       "      <th>set</th>\n",
       "      <th>collectors_num</th>\n",
       "      <th>name</th>\n",
       "      <th>cost</th>\n",
       "      <th>type</th>\n",
       "      <th>rarity</th>\n",
       "      <th>language</th>\n",
       "      <th>artist</th>\n",
       "      <th>usd</th>\n",
       "      <th>eur</th>\n",
       "      <th>tix</th>\n",
       "    </tr>\n",
       "  </thead>\n",
       "  <tbody>\n",
       "    <tr>\n",
       "      <th>0</th>\n",
       "      <td>0</td>\n",
       "      <td>UND</td>\n",
       "      <td>1</td>\n",
       "      <td>Adorable Kitten</td>\n",
       "      <td>{W}</td>\n",
       "      <td>Host Creature</td>\n",
       "      <td>C</td>\n",
       "      <td>EN</td>\n",
       "      <td>Andrea Radeck</td>\n",
       "      <td>0.14</td>\n",
       "      <td>0.06</td>\n",
       "      <td>NaN</td>\n",
       "    </tr>\n",
       "    <tr>\n",
       "      <th>1</th>\n",
       "      <td>1</td>\n",
       "      <td>UND</td>\n",
       "      <td>2</td>\n",
       "      <td>AWOL</td>\n",
       "      <td>{2}{W}</td>\n",
       "      <td>Instant</td>\n",
       "      <td>C</td>\n",
       "      <td>EN</td>\n",
       "      <td>Stephen Tappin</td>\n",
       "      <td>0.13</td>\n",
       "      <td>0.04</td>\n",
       "      <td>NaN</td>\n",
       "    </tr>\n",
       "    <tr>\n",
       "      <th>2</th>\n",
       "      <td>2</td>\n",
       "      <td>UND</td>\n",
       "      <td>3</td>\n",
       "      <td>Emcee</td>\n",
       "      <td>{2}{W}</td>\n",
       "      <td>Creature</td>\n",
       "      <td>U</td>\n",
       "      <td>EN</td>\n",
       "      <td>Quinton Hoover</td>\n",
       "      <td>0.16</td>\n",
       "      <td>0.06</td>\n",
       "      <td>NaN</td>\n",
       "    </tr>\n",
       "    <tr>\n",
       "      <th>3</th>\n",
       "      <td>3</td>\n",
       "      <td>UND</td>\n",
       "      <td>4</td>\n",
       "      <td>Flavor Judge</td>\n",
       "      <td>{1}{W}</td>\n",
       "      <td>Creature</td>\n",
       "      <td>R</td>\n",
       "      <td>EN</td>\n",
       "      <td>Mike Burns</td>\n",
       "      <td>0.26</td>\n",
       "      <td>0.19</td>\n",
       "      <td>NaN</td>\n",
       "    </tr>\n",
       "    <tr>\n",
       "      <th>4</th>\n",
       "      <td>4</td>\n",
       "      <td>UND</td>\n",
       "      <td>5</td>\n",
       "      <td>Frankie Peanuts</td>\n",
       "      <td>{2}{W}{W}</td>\n",
       "      <td>Lgd. Creature</td>\n",
       "      <td>R</td>\n",
       "      <td>EN</td>\n",
       "      <td>Thomas M. Baxa</td>\n",
       "      <td>0.58</td>\n",
       "      <td>0.16</td>\n",
       "      <td>NaN</td>\n",
       "    </tr>\n",
       "    <tr>\n",
       "      <th>...</th>\n",
       "      <td>...</td>\n",
       "      <td>...</td>\n",
       "      <td>...</td>\n",
       "      <td>...</td>\n",
       "      <td>...</td>\n",
       "      <td>...</td>\n",
       "      <td>...</td>\n",
       "      <td>...</td>\n",
       "      <td>...</td>\n",
       "      <td>...</td>\n",
       "      <td>...</td>\n",
       "      <td>...</td>\n",
       "    </tr>\n",
       "    <tr>\n",
       "      <th>55253</th>\n",
       "      <td>55253</td>\n",
       "      <td>LEA</td>\n",
       "      <td>291</td>\n",
       "      <td>Swamp</td>\n",
       "      <td>NaN</td>\n",
       "      <td>Basic Land</td>\n",
       "      <td>C</td>\n",
       "      <td>EN</td>\n",
       "      <td>Dan Frazier</td>\n",
       "      <td>19.41</td>\n",
       "      <td>23.52</td>\n",
       "      <td>NaN</td>\n",
       "    </tr>\n",
       "    <tr>\n",
       "      <th>55254</th>\n",
       "      <td>55254</td>\n",
       "      <td>LEA</td>\n",
       "      <td>292</td>\n",
       "      <td>Mountain</td>\n",
       "      <td>NaN</td>\n",
       "      <td>Basic Land</td>\n",
       "      <td>C</td>\n",
       "      <td>EN</td>\n",
       "      <td>Douglas Shuler</td>\n",
       "      <td>29.23</td>\n",
       "      <td>15.00</td>\n",
       "      <td>NaN</td>\n",
       "    </tr>\n",
       "    <tr>\n",
       "      <th>55255</th>\n",
       "      <td>55255</td>\n",
       "      <td>LEA</td>\n",
       "      <td>293</td>\n",
       "      <td>Mountain</td>\n",
       "      <td>NaN</td>\n",
       "      <td>Basic Land</td>\n",
       "      <td>C</td>\n",
       "      <td>EN</td>\n",
       "      <td>Douglas Shuler</td>\n",
       "      <td>19.98</td>\n",
       "      <td>15.00</td>\n",
       "      <td>NaN</td>\n",
       "    </tr>\n",
       "    <tr>\n",
       "      <th>55256</th>\n",
       "      <td>55256</td>\n",
       "      <td>LEA</td>\n",
       "      <td>294</td>\n",
       "      <td>Forest</td>\n",
       "      <td>NaN</td>\n",
       "      <td>Basic Land</td>\n",
       "      <td>C</td>\n",
       "      <td>EN</td>\n",
       "      <td>Christopher Rush</td>\n",
       "      <td>30.73</td>\n",
       "      <td>14.97</td>\n",
       "      <td>NaN</td>\n",
       "    </tr>\n",
       "    <tr>\n",
       "      <th>55257</th>\n",
       "      <td>55257</td>\n",
       "      <td>LEA</td>\n",
       "      <td>295</td>\n",
       "      <td>Forest</td>\n",
       "      <td>NaN</td>\n",
       "      <td>Basic Land</td>\n",
       "      <td>C</td>\n",
       "      <td>EN</td>\n",
       "      <td>Christopher Rush</td>\n",
       "      <td>39.95</td>\n",
       "      <td>14.97</td>\n",
       "      <td>NaN</td>\n",
       "    </tr>\n",
       "  </tbody>\n",
       "</table>\n",
       "<p>55258 rows × 12 columns</p>\n",
       "</div>"
      ],
      "text/plain": [
       "       Unnamed: 0  set collectors_num             name       cost  \\\n",
       "0               0  UND              1  Adorable Kitten        {W}   \n",
       "1               1  UND              2             AWOL     {2}{W}   \n",
       "2               2  UND              3            Emcee     {2}{W}   \n",
       "3               3  UND              4     Flavor Judge     {1}{W}   \n",
       "4               4  UND              5  Frankie Peanuts  {2}{W}{W}   \n",
       "...           ...  ...            ...              ...        ...   \n",
       "55253       55253  LEA            291            Swamp        NaN   \n",
       "55254       55254  LEA            292         Mountain        NaN   \n",
       "55255       55255  LEA            293         Mountain        NaN   \n",
       "55256       55256  LEA            294           Forest        NaN   \n",
       "55257       55257  LEA            295           Forest        NaN   \n",
       "\n",
       "                type rarity language            artist    usd    eur  tix  \n",
       "0      Host Creature      C       EN     Andrea Radeck   0.14   0.06  NaN  \n",
       "1            Instant      C       EN    Stephen Tappin   0.13   0.04  NaN  \n",
       "2           Creature      U       EN    Quinton Hoover   0.16   0.06  NaN  \n",
       "3           Creature      R       EN        Mike Burns   0.26   0.19  NaN  \n",
       "4      Lgd. Creature      R       EN    Thomas M. Baxa   0.58   0.16  NaN  \n",
       "...              ...    ...      ...               ...    ...    ...  ...  \n",
       "55253     Basic Land      C       EN       Dan Frazier  19.41  23.52  NaN  \n",
       "55254     Basic Land      C       EN    Douglas Shuler  29.23  15.00  NaN  \n",
       "55255     Basic Land      C       EN    Douglas Shuler  19.98  15.00  NaN  \n",
       "55256     Basic Land      C       EN  Christopher Rush  30.73  14.97  NaN  \n",
       "55257     Basic Land      C       EN  Christopher Rush  39.95  14.97  NaN  \n",
       "\n",
       "[55258 rows x 12 columns]"
      ]
     },
     "execution_count": 59,
     "metadata": {},
     "output_type": "execute_result"
    }
   ],
   "source": [
    "cards"
   ]
  },
  {
   "cell_type": "code",
   "execution_count": 63,
   "metadata": {},
   "outputs": [
    {
     "data": {
      "text/plain": [
       "<matplotlib.axes._subplots.AxesSubplot at 0x2015d87d888>"
      ]
     },
     "execution_count": 63,
     "metadata": {},
     "output_type": "execute_result"
    },
    {
     "data": {
      "image/png": "[encoded data removed]",
      "text/plain": [
       "<Figure size 432x288 with 1 Axes>"
      ]
     },
     "metadata": {
      "needs_background": "light"
     },
     "output_type": "display_data"
    }
   ],
   "source": [
    "cards.usd.plot.hist(bins = 100)"
   ]
  },
  {
   "cell_type": "code",
   "execution_count": 81,
   "metadata": {},
   "outputs": [
    {
     "data": {
      "text/plain": [
       "Unnamed: 0          int64\n",
       "set                object\n",
       "collectors_num     object\n",
       "name               object\n",
       "cost               object\n",
       "type               object\n",
       "rarity             object\n",
       "language           object\n",
       "artist             object\n",
       "usd               float64\n",
       "eur               float64\n",
       "tix               float64\n",
       "dtype: object"
      ]
     },
     "execution_count": 81,
     "metadata": {},
     "output_type": "execute_result"
    }
   ],
   "source": [
    "cards.dtypes"
   ]
  },
  {
   "cell_type": "markdown",
   "metadata": {
    "pycharm": {
     "name": "#%% md\n"
    }
   },
   "source": [
    "# My original, not that great, approach"
   ]
  },
  {
   "cell_type": "code",
   "execution_count": 11,
   "metadata": {
    "scrolled": true,
    "pycharm": {
     "name": "#%%\n"
    }
   },
   "outputs": [],
   "source": [
    "url = r'https://www.scryfall.com'\n",
    "\n",
    "r = requests.get(url)\n",
    "\n",
    "data = r.text\n",
    "\n",
    "soup = BeautifulSoup(data)"
   ]
  },
  {
   "cell_type": "code",
   "execution_count": 12,
   "metadata": {
    "scrolled": true
   },
   "outputs": [
    {
     "name": "stdout",
     "output_type": "stream",
     "text": [
      "<!DOCTYPE \n"
     ]
    }
   ],
   "source": [
    "print(soup.prettify()[:10])"
   ]
  },
  {
   "cell_type": "code",
   "execution_count": 67,
   "metadata": {
    "jupyter": {
     "source_hidden": true
    },
    "scrolled": true
   },
   "outputs": [
    {
     "data": {
      "text/plain": [
       "'There are 50 links'"
      ]
     },
     "metadata": {},
     "output_type": "display_data"
    },
    {
     "name": "stdout",
     "output_type": "stream",
     "text": [
      "#main\n",
      "#footer\n",
      "/\n",
      "/advanced\n",
      "/docs/syntax\n",
      "/sets\n",
      "/random\n",
      "https://scryfall.com/sets/und\n",
      "/sets/thb?order=set\n",
      "/sets/sld?order=spoiled\n",
      "/register\n",
      "https://scryfall.com/card/ddu/27/yeva-natures-herald\n",
      "https://scryfall.com/card/rna/195/prime-speaker-vannifar\n",
      "https://scryfall.com/card/c13/199/mayael-the-anima\n",
      "https://scryfall.com/card/chk/121/kiku-nights-flower\n",
      "https://scryfall.com/card/plc/36/braids-conjurer-adept\n",
      "https://scryfall.com/card/frf/90/alesha-who-smiles-at-death\n",
      "https://scryfall.com/card/dka/24/thalia-guardian-of-thraben\n",
      "/advanced\n",
      "/docs/syntax\n",
      "/sets\n",
      "/account/decks\n",
      "/random\n",
      "/bots\n",
      "/docs/faqs\n",
      "/blog\n",
      "https://artgame.scryfall.com\n",
      "https://tagger.scryfall.com\n",
      "/settings/profile\n",
      "/register\n",
      "/docs/terms\n",
      "/contact\n",
      "/docs/privacy\n",
      "/docs/api\n",
      "/docs/api/cards\n",
      "/docs/api/images\n",
      "/docs/api/bulk-data\n",
      "/blog/category/api\n",
      "https://twitter.com/scryfall\n",
      "https://www.reddit.com/user/Scryfall/\n",
      "https://github.com/scryfall\n",
      "#\n",
      "#\n",
      "None\n",
      "None\n",
      "None\n",
      "None\n",
      "/admin/cards/new\n",
      "/admin\n",
      "/settings/preferences\n"
     ]
    }
   ],
   "source": [
    "links = soup.find_all('a')\n",
    "\n",
    "display(f'There are {len(links)} links')\n",
    "\n",
    "for link in links:\n",
    "    print(link.get('href'))"
   ]
  },
  {
   "cell_type": "markdown",
   "metadata": {
    "pycharm": {
     "name": "#%% md\n"
    }
   },
   "source": [
    "Ok, that's a lot of pages. The \"sets\" page looks promising. I think that will have every card. Let's go there!"
   ]
  },
  {
   "cell_type": "code",
   "execution_count": 13,
   "metadata": {
    "scrolled": true,
    "pycharm": {
     "name": "#%%\n"
    }
   },
   "outputs": [],
   "source": [
    "r = requests.get(f'{url}/sets')\n",
    "\n",
    "sets_data = r.text\n",
    "\n",
    "sets_soup = BeautifulSoup(sets_data)"
   ]
  },
  {
   "cell_type": "code",
   "execution_count": 14,
   "metadata": {
    "scrolled": true
   },
   "outputs": [],
   "source": [
    "# print(sets_soup.prettify())"
   ]
  },
  {
   "cell_type": "code",
   "execution_count": 15,
   "metadata": {
    "scrolled": true
   },
   "outputs": [
    {
     "data": {
      "text/plain": [
       "'There are 3353 links'"
      ]
     },
     "metadata": {},
     "output_type": "display_data"
    },
    {
     "name": "stdout",
     "output_type": "stream",
     "text": [
      "#main\n",
      "#footer\n",
      "/\n",
      "/advanced\n",
      "/docs/syntax\n",
      "/sets\n",
      "/random\n",
      "/account/decks\n",
      "/settings\n",
      "/advanced\n"
     ]
    }
   ],
   "source": [
    "sets_links = sets_soup.find_all('a')\n",
    "\n",
    "display(f'There are {len(sets_links)} links')\n",
    "\n",
    "for link in sets_links[:10]:\n",
    "    print(link.get('href'))"
   ]
  },
  {
   "cell_type": "markdown",
   "metadata": {},
   "source": [
    "Hmm, a lot of repeats and a lot of different formats. Let's fix all the links to be the full link, then create a list without duplicates."
   ]
  },
  {
   "cell_type": "code",
   "execution_count": 16,
   "metadata": {
    "scrolled": true
   },
   "outputs": [],
   "source": [
    "def fix_link(link):\n",
    "    try:\n",
    "        if link[:5] == 'https':\n",
    "            return link\n",
    "        elif link[0] == '/':\n",
    "            return f'{url}{link}'\n",
    "    except:\n",
    "        print('Empty Link')"
   ]
  },
  {
   "cell_type": "code",
   "execution_count": 17,
   "metadata": {
    "scrolled": true
   },
   "outputs": [
    {
     "name": "stdout",
     "output_type": "stream",
     "text": [
      "Empty Link\n",
      "Empty Link\n",
      "Empty Link\n",
      "Empty Link\n"
     ]
    },
    {
     "data": {
      "text/plain": [
       "['https://scryfall.com/sets/hou',\n",
       " 'https://www.scryfall.com/sets/m15/ko',\n",
       " 'https://scryfall.com/sets/pvan',\n",
       " 'https://www.scryfall.com/sets/rin/it',\n",
       " 'https://www.scryfall.com/sets/sth/ja',\n",
       " 'https://www.scryfall.com/sets/aer/zht',\n",
       " 'https://scryfall.com/sets/10e',\n",
       " 'https://scryfall.com/sets/pres',\n",
       " 'https://www.scryfall.com/sets/pkld',\n",
       " 'https://www.scryfall.com/sets/e01']"
      ]
     },
     "execution_count": 17,
     "metadata": {},
     "output_type": "execute_result"
    }
   ],
   "source": [
    "sets_list = [link.get('href') for link in sets_links]\n",
    "\n",
    "fixed_sets_list = [fix_link(string) for string in sets_list]\n",
    "fixed_sets_list = list(set(fixed_sets_list))\n",
    "fixed_sets_list[:10]"
   ]
  },
  {
   "cell_type": "markdown",
   "metadata": {
    "pycharm": {
     "name": "#%% md\n"
    }
   },
   "source": [
    "Looking good. A few more things to work on:\n",
    "1. Some have www and some don't. Let's add that to all of them.\n",
    "2. There will be more duplicates after we do that. (I suspect that we could just drop all that don't have www, but it doesn't hurt to be careful.\n",
    "3. There are a few bad ones, like reddit and none. Let's lose those as well."
   ]
  },
  {
   "cell_type": "code",
   "execution_count": 18,
   "metadata": {
    "scrolled": true
   },
   "outputs": [],
   "source": [
    "fixed_sets_list.remove(None)"
   ]
  },
  {
   "cell_type": "code",
   "execution_count": 20,
   "metadata": {
    "scrolled": true,
    "pycharm": {
     "name": "#%%\n"
    }
   },
   "outputs": [
    {
     "data": {
      "text/plain": [
       "['https://scryfall.com/sets/hou',\n",
       " 'https://www.scryfall.com/sets/m15/ko',\n",
       " 'https://scryfall.com/sets/pvan',\n",
       " 'https://www.scryfall.com/sets/rin/it',\n",
       " 'https://www.scryfall.com/sets/sth/ja',\n",
       " 'https://www.scryfall.com/sets/aer/zht',\n",
       " 'https://scryfall.com/sets/10e',\n",
       " 'https://scryfall.com/sets/pres',\n",
       " 'https://www.scryfall.com/sets/pkld',\n",
       " 'https://www.scryfall.com/sets/e01']"
      ]
     },
     "execution_count": 20,
     "metadata": {},
     "output_type": "execute_result"
    }
   ],
   "source": [
    "fixed_sets_list[:10]"
   ]
  },
  {
   "cell_type": "code",
   "execution_count": 21,
   "metadata": {
    "scrolled": true
   },
   "outputs": [],
   "source": [
    "# Join them all into one string\n",
    "# Seems easer to do regex when it's all one string. \n",
    "# Should investigate this more. Am I just bad, or is this a good way to do it?\n",
    "\n",
    "csv = ','.join(fixed_sets_list)\n",
    "\n",
    "csv = re.sub(r'/scryfall', r'/www.scryfall', csv)\n",
    "\n",
    "fixed_sets_list = csv.split(',')"
   ]
  },
  {
   "cell_type": "code",
   "execution_count": 22,
   "metadata": {
    "scrolled": true,
    "pycharm": {
     "name": "#%%\n"
    }
   },
   "outputs": [],
   "source": [
    "fixed_sets_list = list(set(fixed_sets_list))"
   ]
  },
  {
   "cell_type": "code",
   "execution_count": 25,
   "metadata": {
    "scrolled": true
   },
   "outputs": [
    {
     "data": {
      "text/plain": [
       "['https://www.scryfall.com/sets/m15/ko',\n",
       " 'https://www.scryfall.com/sets/rin/it',\n",
       " 'https://www.scryfall.com/sets/sth/ja',\n",
       " 'https://www.scryfall.com/sets/aer/zht',\n",
       " 'https://www.scryfall.com/sets/pkld',\n",
       " 'https://www.scryfall.com/sets/e01',\n",
       " 'https://www.scryfall.com/sets/gtc/ja',\n",
       " 'https://www.scryfall.com/sets/gk2/de',\n",
       " 'https://www.scryfall.com/sets/arb/ru',\n",
       " 'https://www.scryfall.com/sets/nem/it']"
      ]
     },
     "execution_count": 25,
     "metadata": {},
     "output_type": "execute_result"
    }
   ],
   "source": [
    "fixed_sets_list[:10]"
   ]
  },
  {
   "cell_type": "markdown",
   "metadata": {},
   "source": [
    "Ok, almost there. There's still a few unwanted sites in there. Let's get rid of every site which doesn't have a \"www.scryfall.com/sets\" in it"
   ]
  },
  {
   "cell_type": "code",
   "execution_count": 26,
   "metadata": {
    "scrolled": true
   },
   "outputs": [],
   "source": [
    "csv = ','.join(fixed_sets_list)\n",
    "\n",
    "regex = r'[^,]*www.scryfall.com/sets[^,]*'\n",
    "\n",
    "csv = re.findall(regex, csv)\n",
    "\n",
    "fixed_sets_list = csv"
   ]
  },
  {
   "cell_type": "code",
   "execution_count": null,
   "outputs": [],
   "source": [
    "fixed_sets_list[:10]"
   ],
   "metadata": {
    "collapsed": false,
    "pycharm": {
     "name": "#%%\n"
    }
   }
  },
  {
   "cell_type": "markdown",
   "source": [
    "Now, I know this isn't yet correct, because on that page it says that there's 579 sets. So what's gone wrong?\n",
    "\n",
    "Well, some of the set pages have additional \"/\" after the set designation. So it's some kind of subpage. \n",
    "\n",
    "Oh, I see, it's for each language. Well, I believe the default for each is English, so let's get rid of everything after the set description."
   ],
   "metadata": {
    "collapsed": false
   }
  },
  {
   "cell_type": "code",
   "execution_count": null,
   "outputs": [],
   "source": [
    "csv = ','.join(fixed_sets_list)\n",
    "\n",
    "regex = r'(/sets/[^/,]*?)/[^/,]*?,'\n",
    "\n",
    "# re.findall(regex, csv, flags = re.VERBOSE)\n",
    "\n",
    "csv = re.sub(regex, r'\\1,', csv, flags = re.VERBOSE)\n",
    "\n",
    "final_sets_list = csv.split(',')"
   ],
   "metadata": {
    "collapsed": false,
    "pycharm": {
     "name": "#%%\n"
    }
   }
  },
  {
   "cell_type": "code",
   "execution_count": null,
   "outputs": [],
   "source": [
    "final_sets_list[:10]"
   ],
   "metadata": {
    "collapsed": false,
    "pycharm": {
     "name": "#%%\n"
    }
   }
  },
  {
   "cell_type": "markdown",
   "source": [
    "YES! Looking good! Now I just need to remove the duplicates again (could have waited until now, but I just like cleaning things)."
   ],
   "metadata": {
    "collapsed": false
   }
  },
  {
   "cell_type": "code",
   "execution_count": null,
   "outputs": [],
   "source": [
    "final_sets_list = list(set(final_sets_list))"
   ],
   "metadata": {
    "collapsed": false,
    "pycharm": {
     "name": "#%%\n"
    }
   }
  },
  {
   "cell_type": "code",
   "execution_count": null,
   "outputs": [],
   "source": [
    "final_sets_list[:10]"
   ],
   "metadata": {
    "collapsed": false,
    "pycharm": {
     "name": "#%%\n"
    }
   }
  },
  {
   "cell_type": "code",
   "execution_count": 27,
   "metadata": {
    "scrolled": true
   },
   "outputs": [
    {
     "data": {
      "text/plain": [
       "['https://www.scryfall.com/sets/m15/ko',\n",
       " 'https://www.scryfall.com/sets/rin/it',\n",
       " 'https://www.scryfall.com/sets/sth/ja',\n",
       " 'https://www.scryfall.com/sets/aer/zht',\n",
       " 'https://www.scryfall.com/sets/pkld',\n",
       " 'https://www.scryfall.com/sets/e01',\n",
       " 'https://www.scryfall.com/sets/gtc/ja',\n",
       " 'https://www.scryfall.com/sets/gk2/de',\n",
       " 'https://www.scryfall.com/sets/arb/ru',\n",
       " 'https://www.scryfall.com/sets/nem/it']"
      ]
     },
     "execution_count": 27,
     "metadata": {},
     "output_type": "execute_result"
    }
   ],
   "source": [
    "So close!!! We ended up with 574 links. But there are actually 579 sets (According to the bottom of the page). We'll I'm not sure what I missed, but I think there's a better way to handle this stuff."
   ]
  },
  {
   "cell_type": "markdown",
   "metadata": {},
   "source": [
    "Now, I know this isn't yet correct, because on that page it says that there's 579 sets. So what's gone wrong?\n",
    "\n",
    "Well, some of the set pages have additional \"/\" after the set designation. So it's some kind of subpage. \n",
    "\n",
    "Oh, I see, it's for each language. Well, I believe the default for each is English, so let's get rid of everything after the set description."
   ]
  },
  {
   "cell_type": "code",
   "execution_count": 29,
   "metadata": {
    "scrolled": true
   },
   "outputs": [],
   "source": [
    "csv = ','.join(fixed_sets_list)\n",
    "\n",
    "regex = r'(/sets/[^/,]*?)/[^/,]*?,'\n",
    "\n",
    "# re.findall(regex, csv, flags = re.VERBOSE)\n",
    "\n",
    "csv = re.sub(regex, r'\\1,', csv, flags = re.VERBOSE)\n",
    "\n",
    "final_sets_list = csv.split(',')"
   ]
  },
  {
   "cell_type": "code",
   "execution_count": 30,
   "metadata": {
    "scrolled": true
   },
   "outputs": [
    {
     "data": {
      "text/plain": [
       "['https://www.scryfall.com/sets/m15',\n",
       " 'https://www.scryfall.com/sets/rin',\n",
       " 'https://www.scryfall.com/sets/sth',\n",
       " 'https://www.scryfall.com/sets/aer',\n",
       " 'https://www.scryfall.com/sets/pkld',\n",
       " 'https://www.scryfall.com/sets/e01',\n",
       " 'https://www.scryfall.com/sets/gtc',\n",
       " 'https://www.scryfall.com/sets/gk2',\n",
       " 'https://www.scryfall.com/sets/arb',\n",
       " 'https://www.scryfall.com/sets/nem']"
      ]
     },
     "execution_count": 30,
     "metadata": {},
     "output_type": "execute_result"
    }
   ],
   "source": [
    "final_sets_list[:10]"
   ]
  },
  {
   "cell_type": "markdown",
   "metadata": {},
   "source": [
    "YES! Looking good! Now I just need to remove the duplicates again (could have waited until now, but I just like cleaning things)."
   ]
  },
  {
   "cell_type": "code",
   "execution_count": 31,
   "metadata": {
    "scrolled": true
   },
   "outputs": [],
   "source": [
    "final_sets_list = list(set(final_sets_list))"
   ]
  },
  {
   "cell_type": "code",
   "execution_count": 33,
   "metadata": {
    "scrolled": true
   },
   "outputs": [
    {
     "data": {
      "text/plain": [
       "['https://www.scryfall.com/sets/fmb1',\n",
       " 'https://www.scryfall.com/sets/rna',\n",
       " 'https://www.scryfall.com/sets/tgn2',\n",
       " 'https://www.scryfall.com/sets/mb1',\n",
       " 'https://www.scryfall.com/sets/m12',\n",
       " 'https://www.scryfall.com/sets/pemn',\n",
       " 'https://www.scryfall.com/sets/f05',\n",
       " 'https://www.scryfall.com/sets/f02',\n",
       " 'https://www.scryfall.com/sets/prwk',\n",
       " 'https://www.scryfall.com/sets/v10']"
      ]
     },
     "execution_count": 33,
     "metadata": {},
     "output_type": "execute_result"
    }
   ],
   "source": [
    "final_sets_list[:10]"
   ]
  },
  {
   "cell_type": "markdown",
   "metadata": {},
   "source": [
    "So close!!! We ended up with 574 links. But there are actually 579 sets (According to the bottom of the page). We'll I'm not sure what I missed, but I think there's a better way to handle this stuff."
   ]
  }
 ],
 "metadata": {
  "kernelspec": {
   "display_name": "Python 3",
   "language": "python",
   "name": "python3"
  },
  "language_info": {
   "codemirror_mode": {
    "name": "ipython",
    "version": 3
   },
   "file_extension": ".py",
   "mimetype": "text/x-python",
   "name": "python",
   "nbconvert_exporter": "python",
   "pygments_lexer": "ipython3",
   "version": "3.7.6"
  },
  "pycharm": {
   "stem_cell": {
    "cell_type": "raw",
    "source": [],
    "metadata": {
     "collapsed": false
    }
   }
  }
 },
 "nbformat": 4,
 "nbformat_minor": 4
}