{
 "cells": [
  {
   "cell_type": "markdown",
   "metadata": {},
   "source": [
    "# Web Scraping scryfall.com"
   ]
  },
  {
   "cell_type": "markdown",
   "metadata": {
    "pycharm": {
     "name": "#%% md\n"
    }
   },
   "source": [
    "# Introduction"
   ]
  },
  {
   "cell_type": "markdown",
   "metadata": {},
   "source": [
    "Hello, I'm Evan Freeman. For fun, and to work on some new skillsets (including web scraping and regex), I'm going to try to get some data from a website called scryfall.com. This website houses all sorts of useful info about a card game called Magic the Gathering. Yes, it's a super nerdy game. But its over 25 years old, and there's all sorts of interesting data we can work with about it, including card properties and prices!"
   ]
  },
  {
   "cell_type": "markdown",
   "metadata": {},
   "source": [
    "# Setup"
   ]
  },
  {
   "cell_type": "code",
   "execution_count": 1,
   "metadata": {
    "pycharm": {
     "is_executing": false
    },
    "scrolled": true
   },
   "outputs": [],
   "source": [
    "import re\n",
    "import requests\n",
    "from IPython.core.display import display\n",
    "from bs4 import BeautifulSoup\n",
    "import pandas as pd\n",
    "import numpy as np\n",
    "import matplotlib.pyplot as plt\n",
    "import seaborn as sns\n",
    "import time"
   ]
  },
  {
   "cell_type": "markdown",
   "metadata": {
    "pycharm": {
     "name": "#%% md\n"
    }
   },
   "source": [
    "# A Better Way"
   ]
  },
  {
   "cell_type": "markdown",
   "metadata": {
    "pycharm": {
     "name": "#%% md\n"
    }
   },
   "source": [
    "So, I tried a certain approach when I first started, which you can see at the end. I'm leaving it in for academic purposes. But, I've since discovered a better way, which you can see here.\n",
    "\n",
    "The sets page has some good stuff! Like number of cards and release date! I need to get that!!!\n",
    "\n",
    "Let's inspect the page in Chrome to see which tag has the info I want.\n",
    "\n",
    "It looks like each row is contained within a 'tr' tag. So let's dissect one of these."
   ]
  },
  {
   "cell_type": "code",
   "execution_count": 2,
   "metadata": {
    "pycharm": {
     "is_executing": false
    }
   },
   "outputs": [],
   "source": [
    "def clean_text(text):\n",
    "    \"\"\"A regex to clean up text, by removing formatting characters and leading or trailing whitespace\"\"\"\n",
    "\n",
    "#     text = re.sub(r'([\\n])|[\\r]|(^\\s+)|(\\s+$)', '', text) # Meant to be a combined regex, not working\n",
    "    text = re.sub(r'[\\n]', '', text) # Delete line breaks\n",
    "    text = re.sub(r'[\\r]', '', text) # Delete carriage returns with a space\n",
    "    text = re.sub(r'(^\\s+)|(\\s+$)', '', text) # Delete all leading or trailing whitespace\n",
    "    return text\n",
    "\n",
    "# Ya, I could probably combine all these into one regex, and compile it. But I'm in a hurry"
   ]
  },
  {
   "cell_type": "code",
   "execution_count": 3,
   "metadata": {
    "pycharm": {
     "is_executing": false,
     "name": "#%%\n"
    },
    "scrolled": true
   },
   "outputs": [],
   "source": [
    "r = requests.get(r'https://www.scryfall.com/sets')\n",
    "\n",
    "sets_data = r.text\n",
    "\n",
    "sets_soup = BeautifulSoup(sets_data)"
   ]
  },
  {
   "cell_type": "code",
   "execution_count": 4,
   "metadata": {
    "scrolled": true,
    "pycharm": {
     "is_executing": false
    }
   },
   "outputs": [
    {
     "data": {
      "text/plain": "[['Signature Spellbook: Chandra',\n  'SS3',\n  '2',\n  '2020-06-26',\n  'https://scryfall.com/sets/ss3'],\n ['Secret Lair: Ultimate Edition',\n  'SLU',\n  '5',\n  '2020-05-29',\n  'https://scryfall.com/sets/slu'],\n ['Historic Anthology 2',\n  'HA2',\n  '25',\n  '2020-03-12',\n  'https://scryfall.com/sets/ha2'],\n ['Unsanctioned', 'UND', '96', '2020-02-29', 'https://scryfall.com/sets/und'],\n ['Unsanctioned Tokens',\n  'TUND',\n  '6',\n  '2020-02-29',\n  'https://scryfall.com/sets/tund'],\n ['Theros Beyond Death',\n  'THB',\n  '358',\n  '2020-01-24',\n  'https://scryfall.com/sets/thb'],\n ['Theros Beyond Death Promos',\n  'PTHB',\n  '136',\n  '2020-01-24',\n  'https://scryfall.com/sets/pthb'],\n ['Theros Beyond Death Tokens',\n  'TTHB',\n  '14',\n  '2020-01-24',\n  'https://scryfall.com/sets/tthb'],\n ['MagicFest 2020',\n  'PF20',\n  '6',\n  '2020-01-01',\n  'https://scryfall.com/sets/pf20'],\n ['Judge Gift Cards 2020',\n  'J20',\n  '6',\n  '2020-01-01',\n  'https://scryfall.com/sets/j20']]"
     },
     "metadata": {},
     "output_type": "execute_result",
     "execution_count": 4
    }
   ],
   "source": [
    "# I read that its MUCH more efficient to put all the data into a list or dict, then append to df or create a df\n",
    "\n",
    "lst = []\n",
    "\n",
    "for row in sets_soup.find_all('tr')[1:]:\n",
    "    boxes = row.find_all('td')\n",
    "    info = boxes[0].text.rsplit(' ', 1) + [boxes[1].text, boxes[2].text, boxes[1].find('a').get('href')]\n",
    "    info = [clean_text(text) for text in info]\n",
    "    lst.append(info)\n",
    "\n",
    "lst[:10]"
   ]
  },
  {
   "cell_type": "code",
   "execution_count": 5,
   "metadata": {
    "pycharm": {
     "name": "#%%\n",
     "is_executing": false
    }
   },
   "outputs": [
    {
     "data": {
      "text/plain": "                              name abbreviation  num_cards release_date  \\\n0     Signature Spellbook: Chandra          SS3          2   2020-06-26   \n1    Secret Lair: Ultimate Edition          SLU          5   2020-05-29   \n2             Historic Anthology 2          HA2         25   2020-03-12   \n3                     Unsanctioned          UND         96   2020-02-29   \n4              Unsanctioned Tokens         TUND          6   2020-02-29   \n..                             ...          ...        ...          ...   \n578      Intl. Collectors’ Edition          CEI        302   1993-12-10   \n579            Collectors’ Edition          CED        302   1993-12-10   \n580              Unlimited Edition          2ED        302   1993-12-01   \n581           Limited Edition Beta          LEB        302   1993-10-04   \n582          Limited Edition Alpha          LEA        295   1993-08-05   \n\n                                url  \n0     https://scryfall.com/sets/ss3  \n1     https://scryfall.com/sets/slu  \n2     https://scryfall.com/sets/ha2  \n3     https://scryfall.com/sets/und  \n4    https://scryfall.com/sets/tund  \n..                              ...  \n578   https://scryfall.com/sets/cei  \n579   https://scryfall.com/sets/ced  \n580   https://scryfall.com/sets/2ed  \n581   https://scryfall.com/sets/leb  \n582   https://scryfall.com/sets/lea  \n\n[583 rows x 5 columns]",
      "text/html": "<div>\n<style scoped>\n    .dataframe tbody tr th:only-of-type {\n        vertical-align: middle;\n    }\n\n    .dataframe tbody tr th {\n        vertical-align: top;\n    }\n\n    .dataframe thead th {\n        text-align: right;\n    }\n</style>\n<table border=\"1\" class=\"dataframe\">\n  <thead>\n    <tr style=\"text-align: right;\">\n      <th></th>\n      <th>name</th>\n      <th>abbreviation</th>\n      <th>num_cards</th>\n      <th>release_date</th>\n      <th>url</th>\n    </tr>\n  </thead>\n  <tbody>\n    <tr>\n      <th>0</th>\n      <td>Signature Spellbook: Chandra</td>\n      <td>SS3</td>\n      <td>2</td>\n      <td>2020-06-26</td>\n      <td>https://scryfall.com/sets/ss3</td>\n    </tr>\n    <tr>\n      <th>1</th>\n      <td>Secret Lair: Ultimate Edition</td>\n      <td>SLU</td>\n      <td>5</td>\n      <td>2020-05-29</td>\n      <td>https://scryfall.com/sets/slu</td>\n    </tr>\n    <tr>\n      <th>2</th>\n      <td>Historic Anthology 2</td>\n      <td>HA2</td>\n      <td>25</td>\n      <td>2020-03-12</td>\n      <td>https://scryfall.com/sets/ha2</td>\n    </tr>\n    <tr>\n      <th>3</th>\n      <td>Unsanctioned</td>\n      <td>UND</td>\n      <td>96</td>\n      <td>2020-02-29</td>\n      <td>https://scryfall.com/sets/und</td>\n    </tr>\n    <tr>\n      <th>4</th>\n      <td>Unsanctioned Tokens</td>\n      <td>TUND</td>\n      <td>6</td>\n      <td>2020-02-29</td>\n      <td>https://scryfall.com/sets/tund</td>\n    </tr>\n    <tr>\n      <th>...</th>\n      <td>...</td>\n      <td>...</td>\n      <td>...</td>\n      <td>...</td>\n      <td>...</td>\n    </tr>\n    <tr>\n      <th>578</th>\n      <td>Intl. Collectors’ Edition</td>\n      <td>CEI</td>\n      <td>302</td>\n      <td>1993-12-10</td>\n      <td>https://scryfall.com/sets/cei</td>\n    </tr>\n    <tr>\n      <th>579</th>\n      <td>Collectors’ Edition</td>\n      <td>CED</td>\n      <td>302</td>\n      <td>1993-12-10</td>\n      <td>https://scryfall.com/sets/ced</td>\n    </tr>\n    <tr>\n      <th>580</th>\n      <td>Unlimited Edition</td>\n      <td>2ED</td>\n      <td>302</td>\n      <td>1993-12-01</td>\n      <td>https://scryfall.com/sets/2ed</td>\n    </tr>\n    <tr>\n      <th>581</th>\n      <td>Limited Edition Beta</td>\n      <td>LEB</td>\n      <td>302</td>\n      <td>1993-10-04</td>\n      <td>https://scryfall.com/sets/leb</td>\n    </tr>\n    <tr>\n      <th>582</th>\n      <td>Limited Edition Alpha</td>\n      <td>LEA</td>\n      <td>295</td>\n      <td>1993-08-05</td>\n      <td>https://scryfall.com/sets/lea</td>\n    </tr>\n  </tbody>\n</table>\n<p>583 rows × 5 columns</p>\n</div>"
     },
     "metadata": {},
     "output_type": "execute_result",
     "execution_count": 5
    }
   ],
   "source": [
    "sets = pd.DataFrame(lst, columns = ['name', 'abbreviation', 'num_cards', 'release_date', 'url'])\n",
    "sets.num_cards = sets.num_cards.astype('int64')\n",
    "sets.release_date = pd.to_datetime(sets.release_date)\n",
    "sets"
   ]
  },
  {
   "cell_type": "markdown",
   "metadata": {},
   "source": [
    "There's a few entries that don't have the full urls, so let's fix that."
   ]
  },
  {
   "cell_type": "code",
   "execution_count": 6,
   "metadata": {
    "pycharm": {
     "name": "#%%\n",
     "is_executing": false
    }
   },
   "outputs": [],
   "source": [
    "mask = sets.url.apply(lambda website: website[:5] != 'https')\n",
    "sets.loc[mask, 'url'] = sets.loc[mask, 'url'].apply(lambda website: 'https://scryfall.com' + website)"
   ]
  },
  {
   "cell_type": "markdown",
   "metadata": {
    "pycharm": {
     "name": "#%% md\n"
    }
   },
   "source": [
    "I could add info about which are \"subsets\", like promos and tokens, as those tags have an \"indent class\". But I won't worry about that now.\n",
    "\n",
    "Once I learn SQL, that might be a better way to keep track of this stuff"
   ]
  },
  {
   "cell_type": "markdown",
   "metadata": {
    "pycharm": {
     "name": "#%% md\n"
    }
   },
   "source": [
    "# UND"
   ]
  },
  {
   "cell_type": "markdown",
   "metadata": {
    "pycharm": {
     "name": "#%% md\n"
    }
   },
   "source": [
    "Ok, let's try to grab all the info we can for one set. Then we'll generalize that technique for all sets. I guess we'll store each in a seperate data frame for now. Though I really am starting to think I need to use SQL.\n",
    "\n",
    "Each set page has pictures of every card (by default). I can activate a checklist view by adding '?as=checklist', which makes it easier to get the data I want.\n",
    "\n",
    "We end up with a similar html structure to the sets page, so I'll reuse most of that code."
   ]
  },
  {
   "cell_type": "code",
   "execution_count": 7,
   "metadata": {
    "pycharm": {
     "name": "#%%\n",
     "is_executing": false
    }
   },
   "outputs": [],
   "source": [
    "r = requests.get(r'https://scryfall.com/sets/und?as=checklist')\n",
    "\n",
    "data = r.text\n",
    "\n",
    "soup = BeautifulSoup(data)"
   ]
  },
  {
   "cell_type": "code",
   "execution_count": 8,
   "metadata": {
    "pycharm": {
     "is_executing": false,
     "name": "#%%\n"
    },
    "scrolled": true
   },
   "outputs": [
    {
     "data": {
      "text/plain": "[['UND',\n  '1',\n  'Adorable Kitten',\n  '{W}',\n  'Host Creature',\n  'C',\n  'EN',\n  'Andrea Radeck',\n  '$0.13',\n  '€0.05',\n  ''],\n ['UND',\n  '2',\n  'AWOL',\n  '{2}{W}',\n  'Instant',\n  'C',\n  'EN',\n  'Stephen Tappin',\n  '$0.13',\n  '€0.05',\n  ''],\n ['UND',\n  '3',\n  'Emcee',\n  '{2}{W}',\n  'Creature',\n  'U',\n  'EN',\n  'Quinton Hoover',\n  '$0.12',\n  '€0.06',\n  ''],\n ['UND',\n  '4',\n  'Flavor Judge',\n  '{1}{W}',\n  'Creature',\n  'R',\n  'EN',\n  'Mike Burns',\n  '$0.28',\n  '€0.16',\n  ''],\n ['UND',\n  '5',\n  'Frankie Peanuts',\n  '{2}{W}{W}',\n  'Lgd. Creature',\n  'R',\n  'EN',\n  'Thomas M. Baxa',\n  '$0.42',\n  '€0.18',\n  ''],\n ['UND',\n  '6',\n  'GO TO JAIL',\n  '{W}',\n  'Enchantment',\n  'C',\n  'EN',\n  'Marco Teixeira',\n  '$0.12',\n  '€0.02',\n  ''],\n ['UND',\n  '7',\n  'Humming-',\n  '',\n  'Creature',\n  'C',\n  'EN',\n  'Mark Behm',\n  '$0.13',\n  '€0.07',\n  ''],\n ['UND',\n  '8',\n  'Knight of the Hokey Pokey',\n  '{W}{W}',\n  'Creature',\n  'C',\n  'EN',\n  'Kev Walker',\n  '$0.12',\n  '€0.02',\n  ''],\n ['UND',\n  '9',\n  \"Look at Me, I'm R&D\",\n  '{2}{W}',\n  'Enchantment',\n  'R',\n  'EN',\n  '',\n  '$0.14',\n  '€0.16',\n  ''],\n ['UND',\n  '10',\n  \"Look at Me, I'm the DCI\",\n  '{5}{W}{W}',\n  'Sorcery',\n  'R',\n  'EN',\n  'Mark Rosewater',\n  '$0.14',\n  '€0.17',\n  '']]"
     },
     "metadata": {},
     "output_type": "execute_result",
     "execution_count": 8
    }
   ],
   "source": [
    "lst = []\n",
    "\n",
    "for row in soup.find_all('tr')[1:]:\n",
    "    boxes = row.find_all('td')\n",
    "    info = [boxes[i].text for i in range(11)]\n",
    "    info = [clean_text(text) for text in info]\n",
    "    lst.append(info)\n",
    "\n",
    "lst[:10]"
   ]
  },
  {
   "cell_type": "code",
   "execution_count": 9,
   "metadata": {
    "pycharm": {
     "is_executing": false
    }
   },
   "outputs": [
    {
     "data": {
      "text/plain": "    set collectors_num             name       cost           type rarity  \\\n0   UND              1  Adorable Kitten        {W}  Host Creature      C   \n1   UND              2             AWOL     {2}{W}        Instant      C   \n2   UND              3            Emcee     {2}{W}       Creature      U   \n3   UND              4     Flavor Judge     {1}{W}       Creature      R   \n4   UND              5  Frankie Peanuts  {2}{W}{W}  Lgd. Creature      R   \n..  ...            ...              ...        ...            ...    ...   \n91  UND             92            Swamp                Basic Land      C   \n92  UND             93         Mountain                Basic Land      C   \n93  UND             94         Mountain                Basic Land      C   \n94  UND             95           Forest                Basic Land      C   \n95  UND             96           Forest                Basic Land      C   \n\n   language          artist    usd    eur tix  \n0        EN   Andrea Radeck  $0.13  €0.05      \n1        EN  Stephen Tappin  $0.13  €0.05      \n2        EN  Quinton Hoover  $0.12  €0.06      \n3        EN      Mike Burns  $0.28  €0.16      \n4        EN  Thomas M. Baxa  $0.42  €0.18      \n..      ...             ...    ...    ...  ..  \n91       EN   Adam Paquette  $0.26  €2.05      \n92       EN   Rob Alexander  $0.20  €0.02      \n93       EN   Adam Paquette  $0.20  €1.88      \n94       EN      Mark Poole  $0.33  €0.02      \n95       EN   Adam Paquette  $0.33  €1.75      \n\n[96 rows x 11 columns]",
      "text/html": "<div>\n<style scoped>\n    .dataframe tbody tr th:only-of-type {\n        vertical-align: middle;\n    }\n\n    .dataframe tbody tr th {\n        vertical-align: top;\n    }\n\n    .dataframe thead th {\n        text-align: right;\n    }\n</style>\n<table border=\"1\" class=\"dataframe\">\n  <thead>\n    <tr style=\"text-align: right;\">\n      <th></th>\n      <th>set</th>\n      <th>collectors_num</th>\n      <th>name</th>\n      <th>cost</th>\n      <th>type</th>\n      <th>rarity</th>\n      <th>language</th>\n      <th>artist</th>\n      <th>usd</th>\n      <th>eur</th>\n      <th>tix</th>\n    </tr>\n  </thead>\n  <tbody>\n    <tr>\n      <th>0</th>\n      <td>UND</td>\n      <td>1</td>\n      <td>Adorable Kitten</td>\n      <td>{W}</td>\n      <td>Host Creature</td>\n      <td>C</td>\n      <td>EN</td>\n      <td>Andrea Radeck</td>\n      <td>$0.13</td>\n      <td>€0.05</td>\n      <td></td>\n    </tr>\n    <tr>\n      <th>1</th>\n      <td>UND</td>\n      <td>2</td>\n      <td>AWOL</td>\n      <td>{2}{W}</td>\n      <td>Instant</td>\n      <td>C</td>\n      <td>EN</td>\n      <td>Stephen Tappin</td>\n      <td>$0.13</td>\n      <td>€0.05</td>\n      <td></td>\n    </tr>\n    <tr>\n      <th>2</th>\n      <td>UND</td>\n      <td>3</td>\n      <td>Emcee</td>\n      <td>{2}{W}</td>\n      <td>Creature</td>\n      <td>U</td>\n      <td>EN</td>\n      <td>Quinton Hoover</td>\n      <td>$0.12</td>\n      <td>€0.06</td>\n      <td></td>\n    </tr>\n    <tr>\n      <th>3</th>\n      <td>UND</td>\n      <td>4</td>\n      <td>Flavor Judge</td>\n      <td>{1}{W}</td>\n      <td>Creature</td>\n      <td>R</td>\n      <td>EN</td>\n      <td>Mike Burns</td>\n      <td>$0.28</td>\n      <td>€0.16</td>\n      <td></td>\n    </tr>\n    <tr>\n      <th>4</th>\n      <td>UND</td>\n      <td>5</td>\n      <td>Frankie Peanuts</td>\n      <td>{2}{W}{W}</td>\n      <td>Lgd. Creature</td>\n      <td>R</td>\n      <td>EN</td>\n      <td>Thomas M. Baxa</td>\n      <td>$0.42</td>\n      <td>€0.18</td>\n      <td></td>\n    </tr>\n    <tr>\n      <th>...</th>\n      <td>...</td>\n      <td>...</td>\n      <td>...</td>\n      <td>...</td>\n      <td>...</td>\n      <td>...</td>\n      <td>...</td>\n      <td>...</td>\n      <td>...</td>\n      <td>...</td>\n      <td>...</td>\n    </tr>\n    <tr>\n      <th>91</th>\n      <td>UND</td>\n      <td>92</td>\n      <td>Swamp</td>\n      <td></td>\n      <td>Basic Land</td>\n      <td>C</td>\n      <td>EN</td>\n      <td>Adam Paquette</td>\n      <td>$0.26</td>\n      <td>€2.05</td>\n      <td></td>\n    </tr>\n    <tr>\n      <th>92</th>\n      <td>UND</td>\n      <td>93</td>\n      <td>Mountain</td>\n      <td></td>\n      <td>Basic Land</td>\n      <td>C</td>\n      <td>EN</td>\n      <td>Rob Alexander</td>\n      <td>$0.20</td>\n      <td>€0.02</td>\n      <td></td>\n    </tr>\n    <tr>\n      <th>93</th>\n      <td>UND</td>\n      <td>94</td>\n      <td>Mountain</td>\n      <td></td>\n      <td>Basic Land</td>\n      <td>C</td>\n      <td>EN</td>\n      <td>Adam Paquette</td>\n      <td>$0.20</td>\n      <td>€1.88</td>\n      <td></td>\n    </tr>\n    <tr>\n      <th>94</th>\n      <td>UND</td>\n      <td>95</td>\n      <td>Forest</td>\n      <td></td>\n      <td>Basic Land</td>\n      <td>C</td>\n      <td>EN</td>\n      <td>Mark Poole</td>\n      <td>$0.33</td>\n      <td>€0.02</td>\n      <td></td>\n    </tr>\n    <tr>\n      <th>95</th>\n      <td>UND</td>\n      <td>96</td>\n      <td>Forest</td>\n      <td></td>\n      <td>Basic Land</td>\n      <td>C</td>\n      <td>EN</td>\n      <td>Adam Paquette</td>\n      <td>$0.33</td>\n      <td>€1.75</td>\n      <td></td>\n    </tr>\n  </tbody>\n</table>\n<p>96 rows × 11 columns</p>\n</div>"
     },
     "metadata": {},
     "output_type": "execute_result",
     "execution_count": 9
    }
   ],
   "source": [
    "cards = pd.DataFrame(lst, columns = ['set', 'collectors_num', 'name', 'cost', 'type', 'rarity', 'language', 'artist', 'usd', 'eur', 'tix'])\n",
    "cards"
   ]
  },
  {
   "cell_type": "markdown",
   "metadata": {
    "pycharm": {
     "name": "#%% md\n"
    }
   },
   "source": [
    "We did it!! Now, time to get ALL THE CARDS!!!"
   ]
  },
  {
   "cell_type": "markdown",
   "metadata": {
    "pycharm": {
     "name": "#%% md\n"
    }
   },
   "source": [
    "# ALL THE CARDS!"
   ]
  },
  {
   "cell_type": "code",
   "execution_count": 10,
   "metadata": {
    "pycharm": {
     "name": "#%%\n",
     "is_executing": false
    }
   },
   "outputs": [
    {
     "name": "stdout",
     "text": [
      "--- This program took 815.6481018066406 seconds to run. ---\n"
     ],
     "output_type": "stream"
    }
   ],
   "source": [
    "start_time = time.time()\n",
    "\n",
    "lst = []\n",
    "for index, site in sets.url.iteritems():\n",
    "    r = requests.get(f'{site}/?as=checklist')\n",
    "    data = r.text\n",
    "    soup = BeautifulSoup(data)\n",
    "    \n",
    "    for row in soup.find_all('tr')[1:]:\n",
    "        boxes = row.find_all('td')\n",
    "        info = [boxes[i].text for i in range(11)]\n",
    "        info = [clean_text(text) for text in info]\n",
    "        lst.append(info)\n",
    "        \n",
    "cards = pd.DataFrame(lst, columns = ['set', 'collectors_num', 'name', 'cost', 'type', 'rarity', 'language', 'artist', 'usd', 'eur', 'tix'])   \n",
    "run_time = time.time() - start_time\n",
    "print(f'--- This program took {run_time} seconds to run. ---')"
   ]
  },
  {
   "cell_type": "code",
   "execution_count": 11,
   "metadata": {
    "pycharm": {
     "name": "#%%\n",
     "is_executing": false
    }
   },
   "outputs": [],
   "source": [
    "cards.to_csv('D:/code/Data/scryfall/cards.csv', header = True)"
   ]
  },
  {
   "cell_type": "code",
   "execution_count": 12,
   "metadata": {
    "pycharm": {
     "is_executing": false
    }
   },
   "outputs": [
    {
     "data": {
      "text/plain": "       set collectors_num                        name       cost  \\\n0      SS3              1  Chandra, Torch of Defiance  {2}{R}{R}   \n1      SS3              4              Past in Flames     {3}{R}   \n2      SLU              1                 Marsh Flats              \n3      SLU              2               Scalding Tarn              \n4      SLU              3           Verdant Catacombs              \n...    ...            ...                         ...        ...   \n55286  LEA            291                       Swamp              \n55287  LEA            292                    Mountain              \n55288  LEA            293                    Mountain              \n55289  LEA            294                      Forest              \n55290  LEA            295                      Forest              \n\n                    type rarity language             artist     usd     eur  \\\n0      Lgd. Planeswalker      M       EN  Magali Villeneuve                   \n1                Sorcery      M       EN       Josu Hernaiz                   \n2                   Land      R       EN      Alayna Danner                   \n3                   Land      R       EN      Adam Paquette                   \n4                   Land      R       EN         Sam Burley                   \n...                  ...    ...      ...                ...     ...     ...   \n55286         Basic Land      C       EN        Dan Frazier  $19.07  €23.62   \n55287         Basic Land      C       EN     Douglas Shuler  $29.23  €22.91   \n55288         Basic Land      C       EN     Douglas Shuler  $19.98  €22.91   \n55289         Basic Land      C       EN   Christopher Rush  $30.73  €14.73   \n55290         Basic Land      C       EN   Christopher Rush  $39.95  €14.73   \n\n      tix  \n0          \n1          \n2          \n3          \n4          \n...    ..  \n55286      \n55287      \n55288      \n55289      \n55290      \n\n[55291 rows x 11 columns]",
      "text/html": "<div>\n<style scoped>\n    .dataframe tbody tr th:only-of-type {\n        vertical-align: middle;\n    }\n\n    .dataframe tbody tr th {\n        vertical-align: top;\n    }\n\n    .dataframe thead th {\n        text-align: right;\n    }\n</style>\n<table border=\"1\" class=\"dataframe\">\n  <thead>\n    <tr style=\"text-align: right;\">\n      <th></th>\n      <th>set</th>\n      <th>collectors_num</th>\n      <th>name</th>\n      <th>cost</th>\n      <th>type</th>\n      <th>rarity</th>\n      <th>language</th>\n      <th>artist</th>\n      <th>usd</th>\n      <th>eur</th>\n      <th>tix</th>\n    </tr>\n  </thead>\n  <tbody>\n    <tr>\n      <th>0</th>\n      <td>SS3</td>\n      <td>1</td>\n      <td>Chandra, Torch of Defiance</td>\n      <td>{2}{R}{R}</td>\n      <td>Lgd. Planeswalker</td>\n      <td>M</td>\n      <td>EN</td>\n      <td>Magali Villeneuve</td>\n      <td></td>\n      <td></td>\n      <td></td>\n    </tr>\n    <tr>\n      <th>1</th>\n      <td>SS3</td>\n      <td>4</td>\n      <td>Past in Flames</td>\n      <td>{3}{R}</td>\n      <td>Sorcery</td>\n      <td>M</td>\n      <td>EN</td>\n      <td>Josu Hernaiz</td>\n      <td></td>\n      <td></td>\n      <td></td>\n    </tr>\n    <tr>\n      <th>2</th>\n      <td>SLU</td>\n      <td>1</td>\n      <td>Marsh Flats</td>\n      <td></td>\n      <td>Land</td>\n      <td>R</td>\n      <td>EN</td>\n      <td>Alayna Danner</td>\n      <td></td>\n      <td></td>\n      <td></td>\n    </tr>\n    <tr>\n      <th>3</th>\n      <td>SLU</td>\n      <td>2</td>\n      <td>Scalding Tarn</td>\n      <td></td>\n      <td>Land</td>\n      <td>R</td>\n      <td>EN</td>\n      <td>Adam Paquette</td>\n      <td></td>\n      <td></td>\n      <td></td>\n    </tr>\n    <tr>\n      <th>4</th>\n      <td>SLU</td>\n      <td>3</td>\n      <td>Verdant Catacombs</td>\n      <td></td>\n      <td>Land</td>\n      <td>R</td>\n      <td>EN</td>\n      <td>Sam Burley</td>\n      <td></td>\n      <td></td>\n      <td></td>\n    </tr>\n    <tr>\n      <th>...</th>\n      <td>...</td>\n      <td>...</td>\n      <td>...</td>\n      <td>...</td>\n      <td>...</td>\n      <td>...</td>\n      <td>...</td>\n      <td>...</td>\n      <td>...</td>\n      <td>...</td>\n      <td>...</td>\n    </tr>\n    <tr>\n      <th>55286</th>\n      <td>LEA</td>\n      <td>291</td>\n      <td>Swamp</td>\n      <td></td>\n      <td>Basic Land</td>\n      <td>C</td>\n      <td>EN</td>\n      <td>Dan Frazier</td>\n      <td>$19.07</td>\n      <td>€23.62</td>\n      <td></td>\n    </tr>\n    <tr>\n      <th>55287</th>\n      <td>LEA</td>\n      <td>292</td>\n      <td>Mountain</td>\n      <td></td>\n      <td>Basic Land</td>\n      <td>C</td>\n      <td>EN</td>\n      <td>Douglas Shuler</td>\n      <td>$29.23</td>\n      <td>€22.91</td>\n      <td></td>\n    </tr>\n    <tr>\n      <th>55288</th>\n      <td>LEA</td>\n      <td>293</td>\n      <td>Mountain</td>\n      <td></td>\n      <td>Basic Land</td>\n      <td>C</td>\n      <td>EN</td>\n      <td>Douglas Shuler</td>\n      <td>$19.98</td>\n      <td>€22.91</td>\n      <td></td>\n    </tr>\n    <tr>\n      <th>55289</th>\n      <td>LEA</td>\n      <td>294</td>\n      <td>Forest</td>\n      <td></td>\n      <td>Basic Land</td>\n      <td>C</td>\n      <td>EN</td>\n      <td>Christopher Rush</td>\n      <td>$30.73</td>\n      <td>€14.73</td>\n      <td></td>\n    </tr>\n    <tr>\n      <th>55290</th>\n      <td>LEA</td>\n      <td>295</td>\n      <td>Forest</td>\n      <td></td>\n      <td>Basic Land</td>\n      <td>C</td>\n      <td>EN</td>\n      <td>Christopher Rush</td>\n      <td>$39.95</td>\n      <td>€14.73</td>\n      <td></td>\n    </tr>\n  </tbody>\n</table>\n<p>55291 rows × 11 columns</p>\n</div>"
     },
     "metadata": {},
     "output_type": "execute_result",
     "execution_count": 12
    }
   ],
   "source": [
    "cards"
   ]
  },
  {
   "cell_type": "markdown",
   "metadata": {
    "pycharm": {
     "name": "#%% md\n"
    }
   },
   "source": [
    "# Data Cleaning and Exploration"
   ]
  },
  {
   "cell_type": "markdown",
   "metadata": {
    "pycharm": {
     "name": "#%% md\n"
    }
   },
   "source": [
    "Let's get our data into the correct data types, and clean up some things like weird symbols"
   ]
  },
  {
   "cell_type": "code",
   "execution_count": 13,
   "metadata": {
    "pycharm": {
     "is_executing": false
    }
   },
   "outputs": [],
   "source": [
    "cards = pd.read_csv('D:/code/Data/scryfall/cards.csv')"
   ]
  },
  {
   "cell_type": "code",
   "execution_count": 14,
   "metadata": {
    "pycharm": {
     "is_executing": false
    }
   },
   "outputs": [
    {
     "data": {
      "text/plain": "Unnamed: 0            0\nset                   0\ncollectors_num        0\nname                  0\ncost               7974\ntype                 12\nrarity                0\nlanguage              0\nartist               95\nusd                9549\neur               15598\ntix               23146\ndtype: int64"
     },
     "metadata": {},
     "output_type": "execute_result",
     "execution_count": 14
    }
   ],
   "source": [
    "cards.isnull().sum()"
   ]
  },
  {
   "cell_type": "code",
   "execution_count": 15,
   "metadata": {
    "pycharm": {
     "is_executing": false
    }
   },
   "outputs": [
    {
     "data": {
      "text/plain": "Creature                   20373\nInstant                     6427\nSorcery                     5943\nEnchantment                 5289\nArtifact                    3652\n                           ...  \nAutobot Character              1\n伝説のクリーチャー・エンチャント               1\nיצור                           1\nソーサリー                          1\nToken // Token Creature        1\nName: type, Length: 95, dtype: int64"
     },
     "metadata": {},
     "output_type": "execute_result",
     "execution_count": 15
    }
   ],
   "source": [
    "cards.type.value_counts()"
   ]
  },
  {
   "cell_type": "code",
   "execution_count": 16,
   "metadata": {
    "pycharm": {
     "is_executing": false
    }
   },
   "outputs": [
    {
     "data": {
      "text/plain": "{1}{W}                   1545\n{1}{G}                   1451\n{1}{U}                   1378\n{1}{R}                   1285\n{2}{R}                   1284\n                         ... \n{X}{3}{B}{B}                1\n{W}{W}{U}{U}{U}{B}{B}       1\n{2}{G/U}{W}                 1\n{5}{B/G}{B/G}               1\n{4}{G/P}{G/P}               1\nName: cost, Length: 794, dtype: int64"
     },
     "metadata": {},
     "output_type": "execute_result",
     "execution_count": 16
    }
   ],
   "source": [
    "cards.cost.value_counts()"
   ]
  },
  {
   "cell_type": "code",
   "execution_count": 17,
   "metadata": {
    "pycharm": {
     "is_executing": false
    }
   },
   "outputs": [
    {
     "data": {
      "text/plain": "                 Unnamed: 0   set  collectors_num  name  type  rarity  \\\ncost                                                                    \n{X}{Y}{Z}{R}{R}           1     1               1     1     1       1   \n{7}{W}{W}{W}              1     1               1     1     1       1   \n{2/G}{2/G}{2/G}           1     1               1     1     1       1   \n{2/U}{2/U}{2/U}           1     1               1     1     1       1   \n{7}{R}                    1     1               1     1     1       1   \n...                     ...   ...             ...   ...   ...     ...   \n{2}{R}                 1284  1284            1284  1284  1284    1284   \n{1}{R}                 1285  1285            1285  1285  1285    1285   \n{1}{U}                 1378  1378            1378  1378  1378    1378   \n{1}{G}                 1451  1451            1451  1451  1451    1451   \n{1}{W}                 1545  1545            1545  1545  1545    1545   \n\n                 language  artist   usd   eur  tix  \ncost                                                \n{X}{Y}{Z}{R}{R}         1       1     1     1    0  \n{7}{W}{W}{W}            1       1     1     1    1  \n{2/G}{2/G}{2/G}         1       1     1     1    1  \n{2/U}{2/U}{2/U}         1       1     1     1    1  \n{7}{R}                  1       1     1     1    1  \n...                   ...     ...   ...   ...  ...  \n{2}{R}               1284    1284  1097  1004  805  \n{1}{R}               1285    1285  1087   968  855  \n{1}{U}               1378    1378  1186  1078  913  \n{1}{G}               1451    1451  1207  1066  901  \n{1}{W}               1545    1545  1279  1188  980  \n\n[794 rows x 11 columns]",
      "text/html": "<div>\n<style scoped>\n    .dataframe tbody tr th:only-of-type {\n        vertical-align: middle;\n    }\n\n    .dataframe tbody tr th {\n        vertical-align: top;\n    }\n\n    .dataframe thead th {\n        text-align: right;\n    }\n</style>\n<table border=\"1\" class=\"dataframe\">\n  <thead>\n    <tr style=\"text-align: right;\">\n      <th></th>\n      <th>Unnamed: 0</th>\n      <th>set</th>\n      <th>collectors_num</th>\n      <th>name</th>\n      <th>type</th>\n      <th>rarity</th>\n      <th>language</th>\n      <th>artist</th>\n      <th>usd</th>\n      <th>eur</th>\n      <th>tix</th>\n    </tr>\n    <tr>\n      <th>cost</th>\n      <th></th>\n      <th></th>\n      <th></th>\n      <th></th>\n      <th></th>\n      <th></th>\n      <th></th>\n      <th></th>\n      <th></th>\n      <th></th>\n      <th></th>\n    </tr>\n  </thead>\n  <tbody>\n    <tr>\n      <th>{X}{Y}{Z}{R}{R}</th>\n      <td>1</td>\n      <td>1</td>\n      <td>1</td>\n      <td>1</td>\n      <td>1</td>\n      <td>1</td>\n      <td>1</td>\n      <td>1</td>\n      <td>1</td>\n      <td>1</td>\n      <td>0</td>\n    </tr>\n    <tr>\n      <th>{7}{W}{W}{W}</th>\n      <td>1</td>\n      <td>1</td>\n      <td>1</td>\n      <td>1</td>\n      <td>1</td>\n      <td>1</td>\n      <td>1</td>\n      <td>1</td>\n      <td>1</td>\n      <td>1</td>\n      <td>1</td>\n    </tr>\n    <tr>\n      <th>{2/G}{2/G}{2/G}</th>\n      <td>1</td>\n      <td>1</td>\n      <td>1</td>\n      <td>1</td>\n      <td>1</td>\n      <td>1</td>\n      <td>1</td>\n      <td>1</td>\n      <td>1</td>\n      <td>1</td>\n      <td>1</td>\n    </tr>\n    <tr>\n      <th>{2/U}{2/U}{2/U}</th>\n      <td>1</td>\n      <td>1</td>\n      <td>1</td>\n      <td>1</td>\n      <td>1</td>\n      <td>1</td>\n      <td>1</td>\n      <td>1</td>\n      <td>1</td>\n      <td>1</td>\n      <td>1</td>\n    </tr>\n    <tr>\n      <th>{7}{R}</th>\n      <td>1</td>\n      <td>1</td>\n      <td>1</td>\n      <td>1</td>\n      <td>1</td>\n      <td>1</td>\n      <td>1</td>\n      <td>1</td>\n      <td>1</td>\n      <td>1</td>\n      <td>1</td>\n    </tr>\n    <tr>\n      <th>...</th>\n      <td>...</td>\n      <td>...</td>\n      <td>...</td>\n      <td>...</td>\n      <td>...</td>\n      <td>...</td>\n      <td>...</td>\n      <td>...</td>\n      <td>...</td>\n      <td>...</td>\n      <td>...</td>\n    </tr>\n    <tr>\n      <th>{2}{R}</th>\n      <td>1284</td>\n      <td>1284</td>\n      <td>1284</td>\n      <td>1284</td>\n      <td>1284</td>\n      <td>1284</td>\n      <td>1284</td>\n      <td>1284</td>\n      <td>1097</td>\n      <td>1004</td>\n      <td>805</td>\n    </tr>\n    <tr>\n      <th>{1}{R}</th>\n      <td>1285</td>\n      <td>1285</td>\n      <td>1285</td>\n      <td>1285</td>\n      <td>1285</td>\n      <td>1285</td>\n      <td>1285</td>\n      <td>1285</td>\n      <td>1087</td>\n      <td>968</td>\n      <td>855</td>\n    </tr>\n    <tr>\n      <th>{1}{U}</th>\n      <td>1378</td>\n      <td>1378</td>\n      <td>1378</td>\n      <td>1378</td>\n      <td>1378</td>\n      <td>1378</td>\n      <td>1378</td>\n      <td>1378</td>\n      <td>1186</td>\n      <td>1078</td>\n      <td>913</td>\n    </tr>\n    <tr>\n      <th>{1}{G}</th>\n      <td>1451</td>\n      <td>1451</td>\n      <td>1451</td>\n      <td>1451</td>\n      <td>1451</td>\n      <td>1451</td>\n      <td>1451</td>\n      <td>1451</td>\n      <td>1207</td>\n      <td>1066</td>\n      <td>901</td>\n    </tr>\n    <tr>\n      <th>{1}{W}</th>\n      <td>1545</td>\n      <td>1545</td>\n      <td>1545</td>\n      <td>1545</td>\n      <td>1545</td>\n      <td>1545</td>\n      <td>1545</td>\n      <td>1545</td>\n      <td>1279</td>\n      <td>1188</td>\n      <td>980</td>\n    </tr>\n  </tbody>\n</table>\n<p>794 rows × 11 columns</p>\n</div>"
     },
     "metadata": {},
     "output_type": "execute_result",
     "execution_count": 17
    }
   ],
   "source": [
    "cards.groupby('cost').count().sort_values(by = 'name')"
   ]
  },
  {
   "cell_type": "code",
   "execution_count": 18,
   "metadata": {
    "pycharm": {
     "is_executing": false
    }
   },
   "outputs": [
    {
     "data": {
      "text/plain": "artist\nJohn Avon                                  1104\nKev Walker                                 1028\nMark Tedin                                  685\nDan Frazier                                 677\nGreg Staples                                628\n                                           ... \nSusan Garfield                                1\nSvetlin Velinov & Jared Blando                1\nSydney Adams                                  1\nChristopher Moeller & Anthony S. Waters       1\nNick Bartoletti                               1\nName: name, Length: 915, dtype: int64"
     },
     "metadata": {},
     "output_type": "execute_result",
     "execution_count": 18
    }
   ],
   "source": [
    "cards.groupby('artist').count().name.sort_values(ascending = False)"
   ]
  },
  {
   "cell_type": "code",
   "execution_count": 19,
   "metadata": {
    "pycharm": {
     "is_executing": false
    }
   },
   "outputs": [],
   "source": [
    "def to_float(x):\n",
    "    \"\"\"Convert the strings in the price columns to float\"\"\"\n",
    "    try:\n",
    "        return float(re.split('[$€]', x)[-1])\n",
    "    except:\n",
    "        return x"
   ]
  },
  {
   "cell_type": "code",
   "execution_count": 20,
   "metadata": {
    "scrolled": true,
    "pycharm": {
     "is_executing": false
    }
   },
   "outputs": [],
   "source": [
    "# Clean up data types\n",
    "cards.loc[:, 'usd'] = cards.loc[:, 'usd'].apply(to_float)\n",
    "cards.loc[:, 'eur'] = cards.loc[:, 'eur'].apply(to_float)"
   ]
  },
  {
   "cell_type": "code",
   "execution_count": 21,
   "metadata": {
    "pycharm": {
     "name": "#%%\n",
     "is_executing": false
    }
   },
   "outputs": [
    {
     "data": {
      "text/plain": "       Unnamed: 0  set collectors_num                        name       cost  \\\n0               0  SS3              1  Chandra, Torch of Defiance  {2}{R}{R}   \n1               1  SS3              4              Past in Flames     {3}{R}   \n2               2  SLU              1                 Marsh Flats        NaN   \n3               3  SLU              2               Scalding Tarn        NaN   \n4               4  SLU              3           Verdant Catacombs        NaN   \n...           ...  ...            ...                         ...        ...   \n55286       55286  LEA            291                       Swamp        NaN   \n55287       55287  LEA            292                    Mountain        NaN   \n55288       55288  LEA            293                    Mountain        NaN   \n55289       55289  LEA            294                      Forest        NaN   \n55290       55290  LEA            295                      Forest        NaN   \n\n                    type rarity language             artist    usd    eur  tix  \n0      Lgd. Planeswalker      M       EN  Magali Villeneuve    NaN    NaN  NaN  \n1                Sorcery      M       EN       Josu Hernaiz    NaN    NaN  NaN  \n2                   Land      R       EN      Alayna Danner    NaN    NaN  NaN  \n3                   Land      R       EN      Adam Paquette    NaN    NaN  NaN  \n4                   Land      R       EN         Sam Burley    NaN    NaN  NaN  \n...                  ...    ...      ...                ...    ...    ...  ...  \n55286         Basic Land      C       EN        Dan Frazier  19.07  23.62  NaN  \n55287         Basic Land      C       EN     Douglas Shuler  29.23  22.91  NaN  \n55288         Basic Land      C       EN     Douglas Shuler  19.98  22.91  NaN  \n55289         Basic Land      C       EN   Christopher Rush  30.73  14.73  NaN  \n55290         Basic Land      C       EN   Christopher Rush  39.95  14.73  NaN  \n\n[55291 rows x 12 columns]",
      "text/html": "<div>\n<style scoped>\n    .dataframe tbody tr th:only-of-type {\n        vertical-align: middle;\n    }\n\n    .dataframe tbody tr th {\n        vertical-align: top;\n    }\n\n    .dataframe thead th {\n        text-align: right;\n    }\n</style>\n<table border=\"1\" class=\"dataframe\">\n  <thead>\n    <tr style=\"text-align: right;\">\n      <th></th>\n      <th>Unnamed: 0</th>\n      <th>set</th>\n      <th>collectors_num</th>\n      <th>name</th>\n      <th>cost</th>\n      <th>type</th>\n      <th>rarity</th>\n      <th>language</th>\n      <th>artist</th>\n      <th>usd</th>\n      <th>eur</th>\n      <th>tix</th>\n    </tr>\n  </thead>\n  <tbody>\n    <tr>\n      <th>0</th>\n      <td>0</td>\n      <td>SS3</td>\n      <td>1</td>\n      <td>Chandra, Torch of Defiance</td>\n      <td>{2}{R}{R}</td>\n      <td>Lgd. Planeswalker</td>\n      <td>M</td>\n      <td>EN</td>\n      <td>Magali Villeneuve</td>\n      <td>NaN</td>\n      <td>NaN</td>\n      <td>NaN</td>\n    </tr>\n    <tr>\n      <th>1</th>\n      <td>1</td>\n      <td>SS3</td>\n      <td>4</td>\n      <td>Past in Flames</td>\n      <td>{3}{R}</td>\n      <td>Sorcery</td>\n      <td>M</td>\n      <td>EN</td>\n      <td>Josu Hernaiz</td>\n      <td>NaN</td>\n      <td>NaN</td>\n      <td>NaN</td>\n    </tr>\n    <tr>\n      <th>2</th>\n      <td>2</td>\n      <td>SLU</td>\n      <td>1</td>\n      <td>Marsh Flats</td>\n      <td>NaN</td>\n      <td>Land</td>\n      <td>R</td>\n      <td>EN</td>\n      <td>Alayna Danner</td>\n      <td>NaN</td>\n      <td>NaN</td>\n      <td>NaN</td>\n    </tr>\n    <tr>\n      <th>3</th>\n      <td>3</td>\n      <td>SLU</td>\n      <td>2</td>\n      <td>Scalding Tarn</td>\n      <td>NaN</td>\n      <td>Land</td>\n      <td>R</td>\n      <td>EN</td>\n      <td>Adam Paquette</td>\n      <td>NaN</td>\n      <td>NaN</td>\n      <td>NaN</td>\n    </tr>\n    <tr>\n      <th>4</th>\n      <td>4</td>\n      <td>SLU</td>\n      <td>3</td>\n      <td>Verdant Catacombs</td>\n      <td>NaN</td>\n      <td>Land</td>\n      <td>R</td>\n      <td>EN</td>\n      <td>Sam Burley</td>\n      <td>NaN</td>\n      <td>NaN</td>\n      <td>NaN</td>\n    </tr>\n    <tr>\n      <th>...</th>\n      <td>...</td>\n      <td>...</td>\n      <td>...</td>\n      <td>...</td>\n      <td>...</td>\n      <td>...</td>\n      <td>...</td>\n      <td>...</td>\n      <td>...</td>\n      <td>...</td>\n      <td>...</td>\n      <td>...</td>\n    </tr>\n    <tr>\n      <th>55286</th>\n      <td>55286</td>\n      <td>LEA</td>\n      <td>291</td>\n      <td>Swamp</td>\n      <td>NaN</td>\n      <td>Basic Land</td>\n      <td>C</td>\n      <td>EN</td>\n      <td>Dan Frazier</td>\n      <td>19.07</td>\n      <td>23.62</td>\n      <td>NaN</td>\n    </tr>\n    <tr>\n      <th>55287</th>\n      <td>55287</td>\n      <td>LEA</td>\n      <td>292</td>\n      <td>Mountain</td>\n      <td>NaN</td>\n      <td>Basic Land</td>\n      <td>C</td>\n      <td>EN</td>\n      <td>Douglas Shuler</td>\n      <td>29.23</td>\n      <td>22.91</td>\n      <td>NaN</td>\n    </tr>\n    <tr>\n      <th>55288</th>\n      <td>55288</td>\n      <td>LEA</td>\n      <td>293</td>\n      <td>Mountain</td>\n      <td>NaN</td>\n      <td>Basic Land</td>\n      <td>C</td>\n      <td>EN</td>\n      <td>Douglas Shuler</td>\n      <td>19.98</td>\n      <td>22.91</td>\n      <td>NaN</td>\n    </tr>\n    <tr>\n      <th>55289</th>\n      <td>55289</td>\n      <td>LEA</td>\n      <td>294</td>\n      <td>Forest</td>\n      <td>NaN</td>\n      <td>Basic Land</td>\n      <td>C</td>\n      <td>EN</td>\n      <td>Christopher Rush</td>\n      <td>30.73</td>\n      <td>14.73</td>\n      <td>NaN</td>\n    </tr>\n    <tr>\n      <th>55290</th>\n      <td>55290</td>\n      <td>LEA</td>\n      <td>295</td>\n      <td>Forest</td>\n      <td>NaN</td>\n      <td>Basic Land</td>\n      <td>C</td>\n      <td>EN</td>\n      <td>Christopher Rush</td>\n      <td>39.95</td>\n      <td>14.73</td>\n      <td>NaN</td>\n    </tr>\n  </tbody>\n</table>\n<p>55291 rows × 12 columns</p>\n</div>"
     },
     "metadata": {},
     "output_type": "execute_result",
     "execution_count": 21
    }
   ],
   "source": [
    "cards"
   ]
  },
  {
   "cell_type": "code",
   "execution_count": 22,
   "metadata": {
    "pycharm": {
     "is_executing": false
    }
   },
   "outputs": [
    {
     "data": {
      "text/plain": "<matplotlib.axes._subplots.AxesSubplot at 0x1867b544308>"
     },
     "metadata": {},
     "output_type": "execute_result",
     "execution_count": 22
    },
    {
     "data": {
      "text/plain": "<Figure size 432x288 with 1 Axes>",
      "image/png": "[encoded data removed]"
     },
     "metadata": {
      "needs_background": "light"
     },
     "output_type": "display_data"
    }
   ],
   "source": [
    "cards.usd.plot.hist(bins = 100)"
   ]
  },
  {
   "cell_type": "code",
   "execution_count": 23,
   "metadata": {
    "pycharm": {
     "is_executing": false
    }
   },
   "outputs": [
    {
     "data": {
      "text/plain": "Unnamed: 0          int64\nset                object\ncollectors_num     object\nname               object\ncost               object\ntype               object\nrarity             object\nlanguage           object\nartist             object\nusd               float64\neur               float64\ntix               float64\ndtype: object"
     },
     "metadata": {},
     "output_type": "execute_result",
     "execution_count": 23
    }
   ],
   "source": [
    "cards.dtypes"
   ]
  },
  {
   "cell_type": "markdown",
   "metadata": {
    "pycharm": {
     "name": "#%% md\n"
    }
   },
   "source": [
    "# My original, not that great, approach"
   ]
  },
  {
   "cell_type": "code",
   "execution_count": 24,
   "metadata": {
    "scrolled": true,
    "pycharm": {
     "name": "#%%\n",
     "is_executing": false
    }
   },
   "outputs": [],
   "source": [
    "url = r'https://www.scryfall.com'\n",
    "\n",
    "r = requests.get(url)\n",
    "\n",
    "data = r.text\n",
    "\n",
    "soup = BeautifulSoup(data)"
   ]
  },
  {
   "cell_type": "code",
   "execution_count": 25,
   "metadata": {
    "scrolled": true,
    "pycharm": {
     "is_executing": false
    }
   },
   "outputs": [
    {
     "name": "stdout",
     "text": [
      "<!DOCTYPE \n"
     ],
     "output_type": "stream"
    }
   ],
   "source": [
    "print(soup.prettify()[:10])"
   ]
  },
  {
   "cell_type": "code",
   "execution_count": 26,
   "metadata": {
    "jupyter": {
     "source_hidden": true
    },
    "scrolled": true,
    "pycharm": {
     "is_executing": false
    }
   },
   "outputs": [
    {
     "data": {
      "text/plain": "'There are 50 links'"
     },
     "metadata": {},
     "output_type": "display_data"
    },
    {
     "name": "stdout",
     "text": [
      "#main\n",
      "#footer\n",
      "/\n",
      "/advanced\n",
      "/docs/syntax\n",
      "/sets\n",
      "/random\n",
      "https://scryfall.com/sets/und\n",
      "/sets/thb?order=set\n",
      "/sets/sld?order=spoiled\n",
      "/register\n",
      "https://scryfall.com/card/ddu/27/yeva-natures-herald\n",
      "https://scryfall.com/card/rna/195/prime-speaker-vannifar\n",
      "https://scryfall.com/card/c13/199/mayael-the-anima\n",
      "https://scryfall.com/card/chk/121/kiku-nights-flower\n",
      "https://scryfall.com/card/plc/36/braids-conjurer-adept\n",
      "https://scryfall.com/card/frf/90/alesha-who-smiles-at-death\n",
      "https://scryfall.com/card/dka/24/thalia-guardian-of-thraben\n",
      "/advanced\n",
      "/docs/syntax\n",
      "/sets\n",
      "/account/decks\n",
      "/random\n",
      "/bots\n",
      "/docs/faqs\n",
      "/blog\n",
      "https://artgame.scryfall.com\n",
      "https://tagger.scryfall.com\n",
      "/settings/profile\n",
      "/register\n",
      "/docs/terms\n",
      "/contact\n",
      "/docs/privacy\n",
      "/docs/api\n",
      "/docs/api/cards\n",
      "/docs/api/images\n",
      "/docs/api/bulk-data\n",
      "/blog/category/api\n",
      "https://twitter.com/scryfall\n",
      "https://www.reddit.com/user/Scryfall/\n",
      "https://github.com/scryfall\n",
      "#\n",
      "#\n",
      "None\n",
      "None\n",
      "None\n",
      "None\n",
      "/admin/cards/new\n",
      "/admin\n",
      "/settings/preferences\n"
     ],
     "output_type": "stream"
    }
   ],
   "source": [
    "links = soup.find_all('a')\n",
    "\n",
    "display(f'There are {len(links)} links')\n",
    "\n",
    "for link in links:\n",
    "    print(link.get('href'))"
   ]
  },
  {
   "cell_type": "markdown",
   "metadata": {
    "pycharm": {
     "name": "#%% md\n"
    }
   },
   "source": [
    "Ok, that's a lot of pages. The \"sets\" page looks promising. I think that will have every card. Let's go there!"
   ]
  },
  {
   "cell_type": "code",
   "execution_count": 27,
   "metadata": {
    "scrolled": true,
    "pycharm": {
     "name": "#%%\n",
     "is_executing": false
    }
   },
   "outputs": [],
   "source": [
    "r = requests.get(f'{url}/sets')\n",
    "\n",
    "sets_data = r.text\n",
    "\n",
    "sets_soup = BeautifulSoup(sets_data)"
   ]
  },
  {
   "cell_type": "code",
   "execution_count": 28,
   "metadata": {
    "scrolled": true,
    "pycharm": {
     "is_executing": false
    }
   },
   "outputs": [],
   "source": [
    "# print(sets_soup.prettify())"
   ]
  },
  {
   "cell_type": "code",
   "execution_count": 29,
   "metadata": {
    "scrolled": true,
    "pycharm": {
     "is_executing": false
    }
   },
   "outputs": [
    {
     "data": {
      "text/plain": "'There are 3361 links'"
     },
     "metadata": {},
     "output_type": "display_data"
    },
    {
     "name": "stdout",
     "text": [
      "#main\n",
      "#footer\n",
      "/\n",
      "/advanced\n",
      "/docs/syntax\n",
      "/sets\n",
      "/random\n",
      "/account/decks\n",
      "/settings\n",
      "/advanced\n"
     ],
     "output_type": "stream"
    }
   ],
   "source": [
    "sets_links = sets_soup.find_all('a')\n",
    "\n",
    "display(f'There are {len(sets_links)} links')\n",
    "\n",
    "for link in sets_links[:10]:\n",
    "    print(link.get('href'))"
   ]
  },
  {
   "cell_type": "markdown",
   "metadata": {},
   "source": [
    "Hmm, a lot of repeats and a lot of different formats. Let's fix all the links to be the full link, then create a list without duplicates."
   ]
  },
  {
   "cell_type": "code",
   "execution_count": 30,
   "metadata": {
    "scrolled": true,
    "pycharm": {
     "is_executing": false
    }
   },
   "outputs": [],
   "source": [
    "def fix_link(link):\n",
    "    try:\n",
    "        if link[:5] == 'https':\n",
    "            return link\n",
    "        elif link[0] == '/':\n",
    "            return f'{url}{link}'\n",
    "    except:\n",
    "        print('Empty Link')"
   ]
  },
  {
   "cell_type": "code",
   "execution_count": 31,
   "metadata": {
    "scrolled": true,
    "pycharm": {
     "is_executing": false
    }
   },
   "outputs": [
    {
     "name": "stdout",
     "text": [
      "Empty Link\n",
      "Empty Link\n",
      "Empty Link\n",
      "Empty Link\n"
     ],
     "output_type": "stream"
    },
    {
     "data": {
      "text/plain": "['https://www.scryfall.com/sets/tugl',\n 'https://www.scryfall.com/sets/kld/fr',\n 'https://www.scryfall.com/sets/vis',\n 'https://www.scryfall.com/sets/f05',\n 'https://www.scryfall.com/sets/m15/it',\n 'https://www.scryfall.com/sets/pm15',\n 'https://scryfall.com/sets/pdp12',\n 'https://scryfall.com/sets/frf',\n 'https://scryfall.com/sets/tdd2',\n 'https://www.scryfall.com/sets/m14/ru']"
     },
     "metadata": {},
     "output_type": "execute_result",
     "execution_count": 31
    }
   ],
   "source": [
    "sets_list = [link.get('href') for link in sets_links]\n",
    "\n",
    "fixed_sets_list = [fix_link(string) for string in sets_list]\n",
    "fixed_sets_list = list(set(fixed_sets_list))\n",
    "fixed_sets_list[:10]"
   ]
  },
  {
   "cell_type": "markdown",
   "metadata": {
    "pycharm": {
     "name": "#%% md\n"
    }
   },
   "source": [
    "Looking good. A few more things to work on:\n",
    "1. Some have www and some don't. Let's add that to all of them.\n",
    "2. There will be more duplicates after we do that. (I suspect that we could just drop all that don't have www, but it doesn't hurt to be careful.\n",
    "3. There are a few bad ones, like reddit and none. Let's lose those as well."
   ]
  },
  {
   "cell_type": "code",
   "execution_count": 32,
   "metadata": {
    "scrolled": true,
    "pycharm": {
     "is_executing": false
    }
   },
   "outputs": [],
   "source": [
    "fixed_sets_list.remove(None)"
   ]
  },
  {
   "cell_type": "code",
   "execution_count": 33,
   "metadata": {
    "scrolled": true,
    "pycharm": {
     "name": "#%%\n",
     "is_executing": false
    }
   },
   "outputs": [
    {
     "data": {
      "text/plain": "['https://www.scryfall.com/sets/tugl',\n 'https://www.scryfall.com/sets/kld/fr',\n 'https://www.scryfall.com/sets/vis',\n 'https://www.scryfall.com/sets/f05',\n 'https://www.scryfall.com/sets/m15/it',\n 'https://www.scryfall.com/sets/pm15',\n 'https://scryfall.com/sets/pdp12',\n 'https://scryfall.com/sets/frf',\n 'https://scryfall.com/sets/tdd2',\n 'https://www.scryfall.com/sets/m14/ru']"
     },
     "metadata": {},
     "output_type": "execute_result",
     "execution_count": 33
    }
   ],
   "source": [
    "fixed_sets_list[:10]"
   ]
  },
  {
   "cell_type": "code",
   "execution_count": 34,
   "metadata": {
    "scrolled": true,
    "pycharm": {
     "is_executing": false
    }
   },
   "outputs": [],
   "source": [
    "# Join them all into one string\n",
    "# Seems easer to do regex when it's all one string. \n",
    "# Should investigate this more. Am I just bad, or is this a good way to do it?\n",
    "\n",
    "csv = ','.join(fixed_sets_list)\n",
    "\n",
    "csv = re.sub(r'/scryfall', r'/www.scryfall', csv)\n",
    "\n",
    "fixed_sets_list = csv.split(',')"
   ]
  },
  {
   "cell_type": "code",
   "execution_count": 35,
   "metadata": {
    "scrolled": true,
    "pycharm": {
     "name": "#%%\n",
     "is_executing": false
    }
   },
   "outputs": [],
   "source": [
    "fixed_sets_list = list(set(fixed_sets_list))"
   ]
  },
  {
   "cell_type": "code",
   "execution_count": 36,
   "metadata": {
    "scrolled": true,
    "pycharm": {
     "is_executing": false
    }
   },
   "outputs": [
    {
     "data": {
      "text/plain": "['https://www.scryfall.com/sets/tugl',\n 'https://www.scryfall.com/sets/kld/fr',\n 'https://www.scryfall.com/sets/vis',\n 'https://www.scryfall.com/sets/f05',\n 'https://www.scryfall.com/sets/m15/it',\n 'https://www.scryfall.com/sets/pm15',\n 'https://www.scryfall.com/sets/m14/ru',\n 'https://www.scryfall.com/sets/m10/es',\n 'https://www.scryfall.com/sets/bfz/ja',\n 'https://www.scryfall.com/sets/mrd']"
     },
     "metadata": {},
     "output_type": "execute_result",
     "execution_count": 36
    }
   ],
   "source": [
    "fixed_sets_list[:10]"
   ]
  },
  {
   "cell_type": "markdown",
   "metadata": {},
   "source": [
    "Ok, almost there. There's still a few unwanted sites in there. Let's get rid of every site which doesn't have a \"www.scryfall.com/sets\" in it"
   ]
  },
  {
   "cell_type": "code",
   "execution_count": 37,
   "metadata": {
    "scrolled": true,
    "pycharm": {
     "is_executing": false
    }
   },
   "outputs": [],
   "source": [
    "csv = ','.join(fixed_sets_list)\n",
    "\n",
    "regex = r'[^,]*www.scryfall.com/sets[^,]*'\n",
    "\n",
    "csv = re.findall(regex, csv)\n",
    "\n",
    "fixed_sets_list = csv"
   ]
  },
  {
   "cell_type": "code",
   "execution_count": 38,
   "outputs": [
    {
     "data": {
      "text/plain": "['https://www.scryfall.com/sets/tugl',\n 'https://www.scryfall.com/sets/kld/fr',\n 'https://www.scryfall.com/sets/vis',\n 'https://www.scryfall.com/sets/f05',\n 'https://www.scryfall.com/sets/m15/it',\n 'https://www.scryfall.com/sets/pm15',\n 'https://www.scryfall.com/sets/m14/ru',\n 'https://www.scryfall.com/sets/m10/es',\n 'https://www.scryfall.com/sets/bfz/ja',\n 'https://www.scryfall.com/sets/mrd']"
     },
     "metadata": {},
     "output_type": "execute_result",
     "execution_count": 38
    }
   ],
   "source": [
    "fixed_sets_list[:10]"
   ],
   "metadata": {
    "collapsed": false,
    "pycharm": {
     "name": "#%%\n",
     "is_executing": false
    }
   }
  },
  {
   "cell_type": "markdown",
   "source": [
    "Now, I know this isn't yet correct, because on that page it says that there's 579 sets. So what's gone wrong?\n",
    "\n",
    "Well, some of the set pages have additional \"/\" after the set designation. So it's some kind of subpage. \n",
    "\n",
    "Oh, I see, it's for each language. Well, I believe the default for each is English, so let's get rid of everything after the set description."
   ],
   "metadata": {
    "collapsed": false
   }
  },
  {
   "cell_type": "code",
   "execution_count": 39,
   "outputs": [],
   "source": [
    "csv = ','.join(fixed_sets_list)\n",
    "\n",
    "regex = r'(/sets/[^/,]*?)/[^/,]*?,'\n",
    "\n",
    "# re.findall(regex, csv, flags = re.VERBOSE)\n",
    "\n",
    "csv = re.sub(regex, r'\\1,', csv, flags = re.VERBOSE)\n",
    "\n",
    "final_sets_list = csv.split(',')"
   ],
   "metadata": {
    "collapsed": false,
    "pycharm": {
     "name": "#%%\n",
     "is_executing": false
    }
   }
  },
  {
   "cell_type": "code",
   "execution_count": 40,
   "outputs": [
    {
     "data": {
      "text/plain": "['https://www.scryfall.com/sets/tugl',\n 'https://www.scryfall.com/sets/kld',\n 'https://www.scryfall.com/sets/vis',\n 'https://www.scryfall.com/sets/f05',\n 'https://www.scryfall.com/sets/m15',\n 'https://www.scryfall.com/sets/pm15',\n 'https://www.scryfall.com/sets/m14',\n 'https://www.scryfall.com/sets/m10',\n 'https://www.scryfall.com/sets/bfz',\n 'https://www.scryfall.com/sets/mrd']"
     },
     "metadata": {},
     "output_type": "execute_result",
     "execution_count": 40
    }
   ],
   "source": [
    "final_sets_list[:10]"
   ],
   "metadata": {
    "collapsed": false,
    "pycharm": {
     "name": "#%%\n",
     "is_executing": false
    }
   }
  },
  {
   "cell_type": "markdown",
   "source": [
    "YES! Looking good! Now I just need to remove the duplicates again (could have waited until now, but I just like cleaning things)."
   ],
   "metadata": {
    "collapsed": false
   }
  },
  {
   "cell_type": "code",
   "execution_count": 41,
   "outputs": [],
   "source": [
    "final_sets_list = list(set(final_sets_list))"
   ],
   "metadata": {
    "collapsed": false,
    "pycharm": {
     "name": "#%%\n",
     "is_executing": false
    }
   }
  },
  {
   "cell_type": "code",
   "execution_count": 42,
   "outputs": [
    {
     "data": {
      "text/plain": "['https://www.scryfall.com/sets/tugl',\n 'https://www.scryfall.com/sets/vis',\n 'https://www.scryfall.com/sets/f17',\n 'https://www.scryfall.com/sets/pgtw',\n 'https://www.scryfall.com/sets/f05',\n 'https://www.scryfall.com/sets/thp1',\n 'https://www.scryfall.com/sets/scg',\n 'https://www.scryfall.com/sets/pc2',\n 'https://www.scryfall.com/sets/pm15',\n 'https://www.scryfall.com/sets/prel']"
     },
     "metadata": {},
     "output_type": "execute_result",
     "execution_count": 42
    }
   ],
   "source": [
    "final_sets_list[:10]"
   ],
   "metadata": {
    "collapsed": false,
    "pycharm": {
     "name": "#%%\n",
     "is_executing": false
    }
   }
  },
  {
   "cell_type": "code",
   "execution_count": 43,
   "metadata": {
    "scrolled": true,
    "pycharm": {
     "is_executing": false
    }
   },
   "outputs": [
    {
     "traceback": [
      "\u001b[1;36m  File \u001b[1;32m\"<ipython-input-43-1187d07b7a34>\"\u001b[1;36m, line \u001b[1;32m1\u001b[0m\n\u001b[1;33m    So close!!! We ended up with 574 links. But there are actually 579 sets (According to the bottom of the page). We'll I'm not sure what I missed, but I think there's a better way to handle this stuff.\u001b[0m\n\u001b[1;37m           ^\u001b[0m\n\u001b[1;31mSyntaxError\u001b[0m\u001b[1;31m:\u001b[0m invalid syntax\n"
     ],
     "ename": "SyntaxError",
     "evalue": "invalid syntax (<ipython-input-43-1187d07b7a34>, line 1)",
     "output_type": "error"
    }
   ],
   "source": [
    "So close!!! We ended up with 574 links. But there are actually 579 sets (According to the bottom of the page). We'll I'm not sure what I missed, but I think there's a better way to handle this stuff."
   ]
  },
  {
   "cell_type": "markdown",
   "metadata": {},
   "source": [
    "Now, I know this isn't yet correct, because on that page it says that there's 579 sets. So what's gone wrong?\n",
    "\n",
    "Well, some of the set pages have additional \"/\" after the set designation. So it's some kind of subpage. \n",
    "\n",
    "Oh, I see, it's for each language. Well, I believe the default for each is English, so let's get rid of everything after the set description."
   ]
  },
  {
   "cell_type": "code",
   "execution_count": null,
   "metadata": {
    "scrolled": true,
    "pycharm": {
     "is_executing": false
    }
   },
   "outputs": [],
   "source": [
    "csv = ','.join(fixed_sets_list)\n",
    "\n",
    "regex = r'(/sets/[^/,]*?)/[^/,]*?,'\n",
    "\n",
    "# re.findall(regex, csv, flags = re.VERBOSE)\n",
    "\n",
    "csv = re.sub(regex, r'\\1,', csv, flags = re.VERBOSE)\n",
    "\n",
    "final_sets_list = csv.split(',')"
   ]
  },
  {
   "cell_type": "code",
   "execution_count": null,
   "metadata": {
    "scrolled": true,
    "pycharm": {
     "is_executing": false
    }
   },
   "outputs": [],
   "source": [
    "final_sets_list[:10]"
   ]
  },
  {
   "cell_type": "markdown",
   "metadata": {},
   "source": [
    "YES! Looking good! Now I just need to remove the duplicates again (could have waited until now, but I just like cleaning things)."
   ]
  },
  {
   "cell_type": "code",
   "execution_count": null,
   "metadata": {
    "scrolled": true,
    "pycharm": {
     "is_executing": false
    }
   },
   "outputs": [],
   "source": [
    "final_sets_list = list(set(final_sets_list))"
   ]
  },
  {
   "cell_type": "code",
   "execution_count": null,
   "metadata": {
    "scrolled": true,
    "pycharm": {
     "is_executing": false
    }
   },
   "outputs": [],
   "source": [
    "final_sets_list[:10]"
   ]
  },
  {
   "cell_type": "markdown",
   "metadata": {},
   "source": [
    "So close!!! We ended up with 574 links. But there are actually 579 sets (According to the bottom of the page). We'll I'm not sure what I missed, but I think there's a better way to handle this stuff."
   ]
  }
 ],
 "metadata": {
  "kernelspec": {
   "name": "python3",
   "language": "python",
   "display_name": "Python 3"
  },
  "language_info": {
   "codemirror_mode": {
    "name": "ipython",
    "version": 3
   },
   "file_extension": ".py",
   "mimetype": "text/x-python",
   "name": "python",
   "nbconvert_exporter": "python",
   "pygments_lexer": "ipython3",
   "version": "3.7.6"
  },
  "pycharm": {
   "stem_cell": {
    "cell_type": "raw",
    "source": [],
    "metadata": {
     "collapsed": false
    }
   }
  }
 },
 "nbformat": 4,
 "nbformat_minor": 4
}